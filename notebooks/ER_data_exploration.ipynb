{
 "cells": [
  {
   "cell_type": "code",
   "execution_count": 1,
   "metadata": {},
   "outputs": [
    {
     "name": "stdout",
     "output_type": "stream",
     "text": [
      "Found the following pickle files:  ['2013 PROC 4.8.18.pkl', '2014 PROC 4.8.18.pkl', '2015 PROC 4.8.18.pkl', '2016 PROC 4.8.18.pkl', '2017 PROC 4.8.18.pkl', 'small_pickle.pkl']\n",
      "Loading : 2013 PROC 4.8.18.pkl\n",
      "Loading : 2014 PROC 4.8.18.pkl\n",
      "Loading : 2015 PROC 4.8.18.pkl\n",
      "Loading : 2016 PROC 4.8.18.pkl\n",
      "Loading : 2017 PROC 4.8.18.pkl\n",
      "Loading : small_pickle.pkl\n",
      "Finished loading data\n",
      "Total number of rows:  605673\n"
     ]
    }
   ],
   "source": [
    "%matplotlib inline\n",
    "import pandas as pd\n",
    "import numpy as np\n",
    "import seaborn as sns\n",
    "from matplotlib import pyplot as plt\n",
    "from pandas import DataFrame as df\n",
    "import os\n",
    "import sys\n",
    "\n",
    "sys.path.append(os.path.abspath(\"../\"))\n",
    "from shibaer import util, features\n",
    "pd.options.display.float_format = \"{:.2f}\".format\n",
    "\n",
    "tprint = lambda s: print('\\n--- %s ---' %s)\n",
    "pprint=lambda i: '%i (%.2f)' %(i,float(i)/len(fraud_events))\n",
    "hour_diff = lambda i:i.total_seconds()/360 if type(i) is not None else i\n",
    "\n",
    "def stack_plot(data, index_axis, stack_var='age',title=None, ylim=None):\n",
    "    if title is None:\n",
    "        title=stack_var +' by ' + index_axis.dtype\n",
    "    data[stack_var].groupby(index_axis).value_counts().unstack().plot(kind='bar', \n",
    "                                                                      stacked=True, figsize=(20,5), title=title, ylim=ylim)\n",
    "thumbdrive = 'KINGSTON'\n",
    "data_dir = 'ER'\n",
    "data = util.load_pickle_files(thumbdrive, data_dir)\n"
   ]
  },
  {
   "cell_type": "code",
   "execution_count": 5,
   "metadata": {},
   "outputs": [],
   "source": [
    "def plot_events_by_time(by_time, stack_var = ''):\n",
    "    times = pd.DatetimeIndex(fraud_events[by_time])\n",
    "    stack_plot(fraud_events, index_axis = [times.month,times.year], stack_var='fraud_type', title = 'Fraud type by %s month' %by_time)\n",
    "    t2017=times.where(times.year==2017)\n",
    "    t2018=times.where(times.year==2018)\n",
    "    stack_plot(fraud_events, index_axis = t2017.date, stack_var='fraud_type',title = '%s by %s' %(stack_var,by_time))\n",
    "    print('')"
   ]
  },
  {
   "cell_type": "markdown",
   "metadata": {},
   "source": [
    "## Descriptive Statistics"
   ]
  },
  {
   "cell_type": "code",
   "execution_count": 6,
   "metadata": {},
   "outputs": [
    {
     "name": "stdout",
     "output_type": "stream",
     "text": [
      "\n",
      "---- ER data categories : ------\n",
      "category\n",
      "Clinical evaluation             10\n",
      "Labs                            47\n",
      "Medical background               5\n",
      "Outcome                         19\n",
      "Outcome + Medical background     1\n",
      "demographic                      4\n",
      "Name: column_name, dtype: int64\n",
      "\n",
      "---- When was the  data gathered : ------\n",
      "when (b=before, a=after)\n",
      "a    20\n",
      "b    17\n",
      "Name: column_name, dtype: int64\n",
      "\n",
      "--- demographic details (all) ---\n"
     ]
    },
    {
     "data": {
      "text/html": [
       "<div>\n",
       "<style scoped>\n",
       "    .dataframe tbody tr th:only-of-type {\n",
       "        vertical-align: middle;\n",
       "    }\n",
       "\n",
       "    .dataframe tbody tr th {\n",
       "        vertical-align: top;\n",
       "    }\n",
       "\n",
       "    .dataframe thead th {\n",
       "        text-align: right;\n",
       "    }\n",
       "</style>\n",
       "<table border=\"1\" class=\"dataframe\">\n",
       "  <thead>\n",
       "    <tr style=\"text-align: right;\">\n",
       "      <th></th>\n",
       "      <th>count</th>\n",
       "      <th>mean</th>\n",
       "      <th>std</th>\n",
       "      <th>min</th>\n",
       "      <th>25%</th>\n",
       "      <th>50%</th>\n",
       "      <th>75%</th>\n",
       "      <th>max</th>\n",
       "    </tr>\n",
       "    <tr>\n",
       "      <th>gender</th>\n",
       "      <th></th>\n",
       "      <th></th>\n",
       "      <th></th>\n",
       "      <th></th>\n",
       "      <th></th>\n",
       "      <th></th>\n",
       "      <th></th>\n",
       "      <th></th>\n",
       "    </tr>\n",
       "  </thead>\n",
       "  <tbody>\n",
       "    <tr>\n",
       "      <th>זכר</th>\n",
       "      <td>313569.00</td>\n",
       "      <td>50.37</td>\n",
       "      <td>23.28</td>\n",
       "      <td>0.00</td>\n",
       "      <td>30.00</td>\n",
       "      <td>52.00</td>\n",
       "      <td>69.00</td>\n",
       "      <td>147.00</td>\n",
       "    </tr>\n",
       "    <tr>\n",
       "      <th>לא ידוע</th>\n",
       "      <td>0.00</td>\n",
       "      <td>nan</td>\n",
       "      <td>nan</td>\n",
       "      <td>nan</td>\n",
       "      <td>nan</td>\n",
       "      <td>nan</td>\n",
       "      <td>nan</td>\n",
       "      <td>nan</td>\n",
       "    </tr>\n",
       "    <tr>\n",
       "      <th>נקבה</th>\n",
       "      <td>291538.00</td>\n",
       "      <td>53.15</td>\n",
       "      <td>23.49</td>\n",
       "      <td>0.00</td>\n",
       "      <td>33.00</td>\n",
       "      <td>55.00</td>\n",
       "      <td>73.00</td>\n",
       "      <td>133.00</td>\n",
       "    </tr>\n",
       "  </tbody>\n",
       "</table>\n",
       "</div>"
      ],
      "text/plain": [
       "            count  mean   std  min   25%   50%   75%    max\n",
       "gender                                                     \n",
       "זכר     313569.00 50.37 23.28 0.00 30.00 52.00 69.00 147.00\n",
       "לא ידוע      0.00   nan   nan  nan   nan   nan   nan    nan\n",
       "נקבה    291538.00 53.15 23.49 0.00 33.00 55.00 73.00 133.00"
      ]
     },
     "execution_count": 6,
     "metadata": {},
     "output_type": "execute_result"
    },
    {
     "data": {
      "image/png": "[encoded data removed]",
      "text/plain": [
       "<matplotlib.figure.Figure at 0x1a120b7978>"
      ]
     },
     "metadata": {},
     "output_type": "display_data"
    }
   ],
   "source": [
    "md= pd.read_csv(os.path.abspath(\"../docs/ER/meta_data.csv\"))\n",
    "md= md.loc[md.is_load==1]\n",
    "\n",
    "data_timestamp_index = 'rss_timestamp'\n",
    "#print(md.head())\n",
    "print('\\n---- ER data categories : ------')\n",
    "print(md.groupby('category').nunique()['column_name'])\n",
    "print('\\n---- When was the  data gathered : ------')\n",
    "print(md.groupby('when (b=before, a=after)').nunique()['column_name'])\n",
    "\n",
    "demographic_cols = md.loc[md.category == 'demographic']['column_name']\n",
    "demographic_data = data[demographic_cols]\n",
    "\n",
    "tprint('demographic details (all)')\n",
    "\n",
    "fig, ax = plt.subplots()\n",
    "groups = demographic_data.groupby('gender')['age_on_date']\n",
    "for k, v in groups:\n",
    "    if k != 'לא ידוע':\n",
    "        v.hist(label=k, alpha=.75, ax=ax, bins = 40)\n",
    "ax.legend()\n",
    "pd.options.display.float_format = \"{:.2f}\".format\n",
    "groups.describe()\n",
    "\n",
    "#demographic_data.groupby('gender').plot(kind='bar')\n",
    "#[])\n",
    "\n",
    "#demographic_data['gender'].value_counts())\n"
   ]
  },
  {
   "cell_type": "markdown",
   "metadata": {},
   "source": [
    "## where were people commited?"
   ]
  },
  {
   "cell_type": "code",
   "execution_count": 7,
   "metadata": {},
   "outputs": [
    {
     "name": "stdout",
     "output_type": "stream",
     "text": [
      "\n",
      "--- commited units: ---\n"
     ]
    },
    {
     "ename": "NameError",
     "evalue": "name 'fraud_events' is not defined",
     "output_type": "error",
     "traceback": [
      "\u001b[0;31m---------------------------------------------------------------------------\u001b[0m",
      "\u001b[0;31mNameError\u001b[0m                                 Traceback (most recent call last)",
      "\u001b[0;32m<ipython-input-7-be63dd64baab>\u001b[0m in \u001b[0;36m<module>\u001b[0;34m()\u001b[0m\n\u001b[1;32m      1\u001b[0m \u001b[0mtprint\u001b[0m\u001b[0;34m(\u001b[0m\u001b[0;34m'commited units:'\u001b[0m\u001b[0;34m)\u001b[0m\u001b[0;34m\u001b[0m\u001b[0m\n\u001b[0;32m----> 2\u001b[0;31m \u001b[0mprint\u001b[0m\u001b[0;34m(\u001b[0m\u001b[0mfraud_events\u001b[0m\u001b[0;34m.\u001b[0m\u001b[0mfraud_type\u001b[0m\u001b[0;34m.\u001b[0m\u001b[0mvalue_counts\u001b[0m\u001b[0;34m(\u001b[0m\u001b[0;34m)\u001b[0m\u001b[0;34m)\u001b[0m\u001b[0;34m\u001b[0m\u001b[0m\n\u001b[0m\u001b[1;32m      3\u001b[0m \u001b[0;34m\u001b[0m\u001b[0m\n\u001b[1;32m      4\u001b[0m \u001b[0mnunique\u001b[0m\u001b[0;34m=\u001b[0m\u001b[0mfraud_events\u001b[0m\u001b[0;34m.\u001b[0m\u001b[0mnunique\u001b[0m\u001b[0;34m(\u001b[0m\u001b[0;34m)\u001b[0m\u001b[0;34m\u001b[0m\u001b[0m\n\u001b[1;32m      5\u001b[0m \u001b[0mncount\u001b[0m\u001b[0;34m=\u001b[0m\u001b[0mfraud_events\u001b[0m\u001b[0;34m.\u001b[0m\u001b[0mcount\u001b[0m\u001b[0;34m(\u001b[0m\u001b[0;34m)\u001b[0m\u001b[0;34m\u001b[0m\u001b[0m\n",
      "\u001b[0;31mNameError\u001b[0m: name 'fraud_events' is not defined"
     ]
    }
   ],
   "source": [
    "tprint('commited units:')\n",
    "print(fraud_events.fraud_type.value_counts())    \n",
    "    \n",
    "nunique=fraud_events.nunique()\n",
    "ncount=fraud_events.count()\n",
    "nnunique=pd.concat([ncount,nunique],axis=1)\n",
    "nnunique.columns=[ 'count','unique vals']\n",
    "tprint('Number of values in each fraud label column:')\n",
    "print(nnunique.loc[label_cols].applymap(pprint))#.applymap(pprint))\n",
    "tprint('Number of values in each rss_data column:')\n",
    "print(nnunique.loc[relevant_data_cols].applymap(pprint))\n",
    "\n"
   ]
  },
  {
   "cell_type": "code",
   "execution_count": 8,
   "metadata": {},
   "outputs": [
    {
     "ename": "AttributeError",
     "evalue": "'DataFrame' object has no attribute 'release_date'",
     "output_type": "error",
     "traceback": [
      "\u001b[0;31m---------------------------------------------------------------------------\u001b[0m",
      "\u001b[0;31mAttributeError\u001b[0m                            Traceback (most recent call last)",
      "\u001b[0;32m<ipython-input-8-5a970fc1f7d4>\u001b[0m in \u001b[0;36m<module>\u001b[0;34m()\u001b[0m\n\u001b[1;32m      1\u001b[0m \u001b[0;32mfrom\u001b[0m \u001b[0mshibaer\u001b[0m \u001b[0;32mimport\u001b[0m \u001b[0mutil\u001b[0m\u001b[0;34m,\u001b[0m \u001b[0mfeatures\u001b[0m\u001b[0;34m\u001b[0m\u001b[0m\n\u001b[1;32m      2\u001b[0m \u001b[0;34m\u001b[0m\u001b[0m\n\u001b[0;32m----> 3\u001b[0;31m \u001b[0mdata_with_targets\u001b[0m \u001b[0;34m=\u001b[0m \u001b[0mfeatures\u001b[0m\u001b[0;34m.\u001b[0m\u001b[0madd_death_columns\u001b[0m\u001b[0;34m(\u001b[0m\u001b[0mdata\u001b[0m\u001b[0;34m)\u001b[0m\u001b[0;34m\u001b[0m\u001b[0m\n\u001b[0m\u001b[1;32m      4\u001b[0m \u001b[0mtarget_variables\u001b[0m \u001b[0;34m=\u001b[0m \u001b[0;34m[\u001b[0m\u001b[0md\u001b[0m \u001b[0;32mfor\u001b[0m \u001b[0md\u001b[0m \u001b[0;32min\u001b[0m \u001b[0mdata_with_targets\u001b[0m\u001b[0;34m.\u001b[0m\u001b[0mcolumns\u001b[0m \u001b[0;32mif\u001b[0m \u001b[0;34m'T_'\u001b[0m \u001b[0;32min\u001b[0m \u001b[0md\u001b[0m\u001b[0;34m]\u001b[0m\u001b[0;34m\u001b[0m\u001b[0m\n",
      "\u001b[0;32m~/PycharmPersonalProjects/Shiba-Hackathon/shibaer/features.py\u001b[0m in \u001b[0;36madd_death_columns\u001b[0;34m(frame)\u001b[0m\n\u001b[1;32m     19\u001b[0m \u001b[0;34m\u001b[0m\u001b[0m\n\u001b[1;32m     20\u001b[0m     \u001b[0;31m# Total time = ER + hospitalization\u001b[0m\u001b[0;34m\u001b[0m\u001b[0;34m\u001b[0m\u001b[0m\n\u001b[0;32m---> 21\u001b[0;31m     \u001b[0mframe\u001b[0m\u001b[0;34m[\u001b[0m\u001b[0;34m\"T_total_time_hospital\"\u001b[0m\u001b[0;34m]\u001b[0m \u001b[0;34m=\u001b[0m \u001b[0mframe\u001b[0m\u001b[0;34m.\u001b[0m\u001b[0mrelease_date\u001b[0m \u001b[0;34m-\u001b[0m \u001b[0mframe\u001b[0m\u001b[0;34m.\u001b[0m\u001b[0madmission_date_min\u001b[0m\u001b[0;34m\u001b[0m\u001b[0m\n\u001b[0m\u001b[1;32m     22\u001b[0m \u001b[0;34m\u001b[0m\u001b[0m\n\u001b[1;32m     23\u001b[0m     \u001b[0;31m# Mortality of the ER\u001b[0m\u001b[0;34m\u001b[0m\u001b[0;34m\u001b[0m\u001b[0m\n",
      "\u001b[0;32m~/anaconda3/lib/python3.6/site-packages/pandas/core/generic.py\u001b[0m in \u001b[0;36m__getattr__\u001b[0;34m(self, name)\u001b[0m\n\u001b[1;32m   3612\u001b[0m             \u001b[0;32mif\u001b[0m \u001b[0mname\u001b[0m \u001b[0;32min\u001b[0m \u001b[0mself\u001b[0m\u001b[0;34m.\u001b[0m\u001b[0m_info_axis\u001b[0m\u001b[0;34m:\u001b[0m\u001b[0;34m\u001b[0m\u001b[0m\n\u001b[1;32m   3613\u001b[0m                 \u001b[0;32mreturn\u001b[0m \u001b[0mself\u001b[0m\u001b[0;34m[\u001b[0m\u001b[0mname\u001b[0m\u001b[0;34m]\u001b[0m\u001b[0;34m\u001b[0m\u001b[0m\n\u001b[0;32m-> 3614\u001b[0;31m             \u001b[0;32mreturn\u001b[0m \u001b[0mobject\u001b[0m\u001b[0;34m.\u001b[0m\u001b[0m__getattribute__\u001b[0m\u001b[0;34m(\u001b[0m\u001b[0mself\u001b[0m\u001b[0;34m,\u001b[0m \u001b[0mname\u001b[0m\u001b[0;34m)\u001b[0m\u001b[0;34m\u001b[0m\u001b[0m\n\u001b[0m\u001b[1;32m   3615\u001b[0m \u001b[0;34m\u001b[0m\u001b[0m\n\u001b[1;32m   3616\u001b[0m     \u001b[0;32mdef\u001b[0m \u001b[0m__setattr__\u001b[0m\u001b[0;34m(\u001b[0m\u001b[0mself\u001b[0m\u001b[0;34m,\u001b[0m \u001b[0mname\u001b[0m\u001b[0;34m,\u001b[0m \u001b[0mvalue\u001b[0m\u001b[0;34m)\u001b[0m\u001b[0;34m:\u001b[0m\u001b[0;34m\u001b[0m\u001b[0m\n",
      "\u001b[0;31mAttributeError\u001b[0m: 'DataFrame' object has no attribute 'release_date'"
     ]
    }
   ],
   "source": [
    "from shibaer import util, features\n",
    "\n",
    "data_with_targets = features.add_death_columns(data)\n",
    "target_variables = [d for d in data_with_targets.columns if 'T_' in d]"
   ]
  }
 ],
 "metadata": {
  "kernelspec": {
   "display_name": "Python 3",
   "language": "python",
   "name": "python3"
  },
  "language_info": {
   "codemirror_mode": {
    "name": "ipython",
    "version": 3
   },
   "file_extension": ".py",
   "mimetype": "text/x-python",
   "name": "python",
   "nbconvert_exporter": "python",
   "pygments_lexer": "ipython3",
   "version": "3.6.4"
  }
 },
 "nbformat": 4,
 "nbformat_minor": 1
}
