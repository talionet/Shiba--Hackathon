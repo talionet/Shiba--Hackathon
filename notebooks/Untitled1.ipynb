{
 "cells": [
  {
   "cell_type": "code",
   "execution_count": 3,
   "metadata": {},
   "outputs": [
    {
     "name": "stdout",
     "output_type": "stream",
     "text": [
      "Found the following pickle files:  ['2013 PROC 4.8.18.pkl', '2014 PROC 4.8.18.pkl', '2015 PROC 4.8.18.pkl', '2016 PROC 4.8.18.pkl', '2017 PROC 4.8.18.pkl', 'small_pickle.pkl']\n",
      "Loading : 2013 PROC 4.8.18.pkl\n",
      "Loading : 2014 PROC 4.8.18.pkl\n",
      "Loading : 2015 PROC 4.8.18.pkl\n",
      "Loading : 2016 PROC 4.8.18.pkl\n",
      "Loading : 2017 PROC 4.8.18.pkl\n",
      "Loading : small_pickle.pkl\n",
      "Finished loading data\n",
      "Total number of rows:  596673\n"
     ]
    }
   ],
   "source": [
    "import util\n",
    "data = util.load_pickle_files('DATAA','ER')"
   ]
  },
  {
   "cell_type": "markdown",
   "metadata": {},
   "source": [
    "Some initial stats"
   ]
  },
  {
   "cell_type": "code",
   "execution_count": 4,
   "metadata": {},
   "outputs": [
    {
     "data": {
      "text/plain": [
       "596673"
      ]
     },
     "execution_count": 4,
     "metadata": {},
     "output_type": "execute_result"
    }
   ],
   "source": [
    "len(data)"
   ]
  },
  {
   "cell_type": "code",
   "execution_count": 5,
   "metadata": {},
   "outputs": [
    {
     "name": "stdout",
     "output_type": "stream",
     "text": [
      "120\n"
     ]
    },
    {
     "data": {
      "text/plain": [
       "['Albumin -Blood',\n",
       " 'Alkaline phosphatase -Blood',\n",
       " 'Amylase -Blood',\n",
       " 'Bilirubin -Blood, total',\n",
       " 'CK-MB%',\n",
       " 'CPK -Blood ,total',\n",
       " 'CPK-MB',\n",
       " 'CRP (Inflammatory)',\n",
       " 'Calcium -Blood, total',\n",
       " 'Chloride -Blood',\n",
       " 'Cholesterol, total',\n",
       " 'Creatinine -Blood',\n",
       " 'EOS abs.',\n",
       " 'Gamma GT -Blood',\n",
       " 'Glucose -Blood',\n",
       " 'HCO3',\n",
       " 'HDL-Cholesterol, direct',\n",
       " 'HGB',\n",
       " 'HbA1C %',\n",
       " 'INR',\n",
       " 'LDH -Blood',\n",
       " 'LDL Cholesterol, direct',\n",
       " 'LYMPHO abs.',\n",
       " 'Lactate',\n",
       " 'Lipase, pancreatic',\n",
       " 'MCV',\n",
       " 'NEUTRO abs.',\n",
       " 'Osmolality (calc.)',\n",
       " 'PCO2',\n",
       " 'PH',\n",
       " 'PLT',\n",
       " 'PO2',\n",
       " 'PT',\n",
       " 'PTT',\n",
       " 'Phosphorus -Blood',\n",
       " 'Potassium -Blood',\n",
       " 'Protein -Blood, total',\n",
       " 'SGOT (AST) -Blood',\n",
       " 'SGPT (ALT) -Blood',\n",
       " 'Sodium -Blood',\n",
       " 'T3, free',\n",
       " 'T4, free',\n",
       " 'TSH',\n",
       " 'T_is_dead',\n",
       " 'T_mortality2d',\n",
       " 'T_mortality30d',\n",
       " 'T_mortality60d',\n",
       " 'T_mortality_ER',\n",
       " 'T_mortality_after_hospitalization',\n",
       " 'T_mortality_hospitalization',\n",
       " 'T_mortality_type',\n",
       " 'T_release_date',\n",
       " 'T_total_time_hospital',\n",
       " 'Triglycerides',\n",
       " 'Troponin-I',\n",
       " 'Urea -Blood',\n",
       " 'WBC',\n",
       " 'admission_date_chameleon',\n",
       " 'admission_date_min',\n",
       " 'age_on_date',\n",
       " 'allergy',\n",
       " 'auxiliary_test_date',\n",
       " 'auxiliary_test_name',\n",
       " 'background_diagnoses',\n",
       " 'birth_date',\n",
       " 'days_in_hospital',\n",
       " 'dbp',\n",
       " 'death_date',\n",
       " 'diagnoses_in_emergency',\n",
       " 'diagnoses_in_hospital',\n",
       " 'diagnoses_on_reception',\n",
       " 'diagnoses_on_release',\n",
       " 'diagnosis_1',\n",
       " 'diagnosis_2',\n",
       " 'diagnosis_3',\n",
       " 'discharge_date_chameleon',\n",
       " 'discharge_date_max',\n",
       " 'discharge_to_chameleon',\n",
       " 'drugs_for_further_treatment_on_reception',\n",
       " 'drugs_for_further_treatment_on_release',\n",
       " 'drugs_in_emergency',\n",
       " 'drugs_in_hospital',\n",
       " 'emergency_wing',\n",
       " 'emergency_wing_chameleon',\n",
       " 'escort',\n",
       " 'esi_chameleon',\n",
       " 'fever',\n",
       " 'gender',\n",
       " 'hospitalization_in',\n",
       " 'hospitalization_out',\n",
       " 'hospitalization_unit',\n",
       " 'id_coded',\n",
       " 'in_room_saturation',\n",
       " 'insurance',\n",
       " 'is_hospitalization',\n",
       " 'main_cause',\n",
       " 'pain',\n",
       " 'pulse',\n",
       " 'recommended_drugs_emergency',\n",
       " 'referral_code',\n",
       " 'referrer',\n",
       " 'regular_drugs_emergency',\n",
       " 'regular_drugs_on_reception',\n",
       " 'regular_drugs_on_release',\n",
       " 'release_from_hospital',\n",
       " 'respiratory_rate',\n",
       " 'saturation',\n",
       " 'sbp',\n",
       " 'sensitivity',\n",
       " 'wing_part',\n",
       " 'wing_part_chameleon',\n",
       " 'wing_part_description',\n",
       " 'דופק',\n",
       " 'חום',\n",
       " 'כאב',\n",
       " 'לחץ דיאסטולי',\n",
       " 'לחץ סיסטולי',\n",
       " 'מספר נשימות',\n",
       " 'סטורציה',\n",
       " 'סטורציה באויר חדר']"
      ]
     },
     "execution_count": 5,
     "metadata": {},
     "output_type": "execute_result"
    }
   ],
   "source": [
    "print(len(data.columns))\n",
    "data.columns.tolist()"
   ]
  },
  {
   "cell_type": "markdown",
   "metadata": {},
   "source": [
    "300K unique patients"
   ]
  },
  {
   "cell_type": "code",
   "execution_count": 6,
   "metadata": {},
   "outputs": [
    {
     "data": {
      "text/plain": [
       "307565"
      ]
     },
     "execution_count": 6,
     "metadata": {},
     "output_type": "execute_result"
    }
   ],
   "source": [
    "data.id_coded.nunique()"
   ]
  },
  {
   "cell_type": "markdown",
   "metadata": {},
   "source": [
    "Most frequent patitents have more than 200 visits"
   ]
  },
  {
   "cell_type": "code",
   "execution_count": 7,
   "metadata": {},
   "outputs": [
    {
     "data": {
      "text/plain": [
       "178705800.0    205\n",
       "168111963.0    203\n",
       "94230261.0     189\n",
       "97029417.0     167\n",
       "169447692.0    149\n",
       "88484883.0     136\n",
       "152912637.0    122\n",
       "169320825.0    122\n",
       "91321617.0     114\n",
       "199938678.0    112\n",
       "Name: id_coded, dtype: int64"
      ]
     },
     "execution_count": 7,
     "metadata": {},
     "output_type": "execute_result"
    }
   ],
   "source": [
    "data.id_coded.value_counts().head(10)"
   ]
  },
  {
   "cell_type": "markdown",
   "metadata": {},
   "source": [
    "We create the returning indicator"
   ]
  },
  {
   "cell_type": "code",
   "execution_count": 8,
   "metadata": {},
   "outputs": [],
   "source": [
    "dates_by_id = data.groupby('id_coded').admission_date_min.apply(list)\n",
    "dates_by_id_dict = dates_by_id.to_dict()\n",
    "data['patient_admission_dates'] = data.id_coded.map(dates_by_id_dict)"
   ]
  },
  {
   "cell_type": "markdown",
   "metadata": {},
   "source": [
    "We filter frequent visitors"
   ]
  },
  {
   "cell_type": "code",
   "execution_count": 9,
   "metadata": {},
   "outputs": [],
   "source": [
    "data_no_homeless = data.groupby('id_coded').filter(lambda x : len(x) <=15 )"
   ]
  },
  {
   "cell_type": "code",
   "execution_count": 10,
   "metadata": {},
   "outputs": [
    {
     "name": "stderr",
     "output_type": "stream",
     "text": [
      "/anaconda3/lib/python3.6/site-packages/ipykernel_launcher.py:8: SettingWithCopyWarning: \n",
      "A value is trying to be set on a copy of a slice from a DataFrame.\n",
      "Try using .loc[row_indexer,col_indexer] = value instead\n",
      "\n",
      "See the caveats in the documentation: http://pandas.pydata.org/pandas-docs/stable/indexing.html#indexing-view-versus-copy\n",
      "  \n"
     ]
    }
   ],
   "source": [
    "def is_returned_within_period_from_date(all_dates,base_date,period):\n",
    "    dates_with_period = [date for date in all_dates if date>base_date and base_date+period >= date]\n",
    "    return len(dates_with_period) > 0\n",
    "\n",
    "from datetime import datetime, timedelta\n",
    "period = timedelta(days=30)\n",
    "\n",
    "data_no_homeless['returned_within_30'] = data_no_homeless[['admission_date_min','patient_admission_dates']].apply(lambda x:is_returned_within_period_from_date(x[1],x[0],period),axis=1)\n"
   ]
  },
  {
   "cell_type": "markdown",
   "metadata": {},
   "source": [
    "We have ~14% returned patients"
   ]
  },
  {
   "cell_type": "code",
   "execution_count": 11,
   "metadata": {},
   "outputs": [
    {
     "data": {
      "text/plain": [
       "0.13883818939152429"
      ]
     },
     "execution_count": 11,
     "metadata": {},
     "output_type": "execute_result"
    }
   ],
   "source": [
    "sum(data_no_homeless['returned_within_30']) / len(data_no_homeless)"
   ]
  },
  {
   "cell_type": "code",
   "execution_count": 12,
   "metadata": {},
   "outputs": [
    {
     "data": {
      "text/plain": [
       "<matplotlib.axes._subplots.AxesSubplot at 0x13b366208>"
      ]
     },
     "execution_count": 12,
     "metadata": {},
     "output_type": "execute_result"
    },
    {
     "data": {
      "image/png": "[encoded data removed]",
      "text/plain": [
       "<matplotlib.figure.Figure at 0x13b2669b0>"
      ]
     },
     "metadata": {},
     "output_type": "display_data"
    }
   ],
   "source": [
    "%matplotlib inline\n",
    "import seaborn as sns\n",
    "sns.barplot(x=data_no_homeless.hospitalization_in.isnull(), y=data_no_homeless.returned_within_30)"
   ]
  },
  {
   "cell_type": "markdown",
   "metadata": {},
   "source": [
    "We plot the chance of return as a function of the hospitalization time"
   ]
  },
  {
   "cell_type": "code",
   "execution_count": 13,
   "metadata": {},
   "outputs": [
    {
     "name": "stderr",
     "output_type": "stream",
     "text": [
      "/anaconda3/lib/python3.6/site-packages/ipykernel_launcher.py:2: SettingWithCopyWarning: \n",
      "A value is trying to be set on a copy of a slice from a DataFrame.\n",
      "Try using .loc[row_indexer,col_indexer] = value instead\n",
      "\n",
      "See the caveats in the documentation: http://pandas.pydata.org/pandas-docs/stable/indexing.html#indexing-view-versus-copy\n",
      "  \n"
     ]
    },
    {
     "data": {
      "text/plain": [
       "<matplotlib.axes._subplots.AxesSubplot at 0x14d888630>"
      ]
     },
     "execution_count": 13,
     "metadata": {},
     "output_type": "execute_result"
    },
    {
     "data": {
      "image/png": "[encoded data removed]",
      "text/plain": [
       "<matplotlib.figure.Figure at 0x14d807518>"
      ]
     },
     "metadata": {},
     "output_type": "display_data"
    }
   ],
   "source": [
    "import pandas as pd\n",
    "data_no_homeless['hospitalization_time'] = (data_no_homeless.hospitalization_out - data_no_homeless.hospitalization_in).fillna(0)\n",
    "hosp_time_buckets = pd.cut(data_no_homeless.hospitalization_time.apply(lambda x : x.days),bins=[-1,0,1,2,3,4,8,20,30])\n",
    "sns.barplot(x=hosp_time_buckets, y=data_no_homeless.returned_within_30)"
   ]
  },
  {
   "cell_type": "markdown",
   "metadata": {},
   "source": [
    "We focus on only the not hospitalized patients, from the general ER"
   ]
  },
  {
   "cell_type": "code",
   "execution_count": 14,
   "metadata": {},
   "outputs": [],
   "source": [
    "data_no_hospitalization = data_no_homeless[data_no_homeless.hospitalization_in.isnull()]\n",
    "data_general_miun = data_no_hospitalization[data_no_hospitalization.emergency_wing.isin(['מיון ראשי','מלר\"ד ראשי'])].copy()\n"
   ]
  },
  {
   "cell_type": "code",
   "execution_count": 24,
   "metadata": {
    "collapsed": true
   },
   "outputs": [
    {
     "data": {
      "text/html": [
       "<div>\n",
       "<style scoped>\n",
       "    .dataframe tbody tr th:only-of-type {\n",
       "        vertical-align: middle;\n",
       "    }\n",
       "\n",
       "    .dataframe tbody tr th {\n",
       "        vertical-align: top;\n",
       "    }\n",
       "\n",
       "    .dataframe thead th {\n",
       "        text-align: right;\n",
       "    }\n",
       "</style>\n",
       "<table border=\"1\" class=\"dataframe\">\n",
       "  <thead>\n",
       "    <tr style=\"text-align: right;\">\n",
       "      <th></th>\n",
       "      <th>id_coded</th>\n",
       "      <th>admission_date_min</th>\n",
       "      <th>0</th>\n",
       "    </tr>\n",
       "  </thead>\n",
       "  <tbody>\n",
       "    <tr>\n",
       "      <th>33034</th>\n",
       "      <td>2.915331e+07</td>\n",
       "      <td>2017-02-21 18:01:00</td>\n",
       "      <td>2</td>\n",
       "    </tr>\n",
       "    <tr>\n",
       "      <th>50540</th>\n",
       "      <td>5.082787e+07</td>\n",
       "      <td>2013-02-01 11:25:00</td>\n",
       "      <td>2</td>\n",
       "    </tr>\n",
       "    <tr>\n",
       "      <th>75234</th>\n",
       "      <td>7.658438e+07</td>\n",
       "      <td>2013-06-10 09:24:00</td>\n",
       "      <td>2</td>\n",
       "    </tr>\n",
       "    <tr>\n",
       "      <th>77244</th>\n",
       "      <td>7.910371e+07</td>\n",
       "      <td>2013-01-10 22:08:00</td>\n",
       "      <td>2</td>\n",
       "    </tr>\n",
       "    <tr>\n",
       "      <th>92624</th>\n",
       "      <td>9.055457e+07</td>\n",
       "      <td>2013-05-21 11:06:00</td>\n",
       "      <td>2</td>\n",
       "    </tr>\n",
       "    <tr>\n",
       "      <th>143421</th>\n",
       "      <td>1.307948e+08</td>\n",
       "      <td>2013-11-30 15:37:00</td>\n",
       "      <td>2</td>\n",
       "    </tr>\n",
       "    <tr>\n",
       "      <th>146071</th>\n",
       "      <td>1.385463e+08</td>\n",
       "      <td>2016-10-17 10:57:00</td>\n",
       "      <td>2</td>\n",
       "    </tr>\n",
       "    <tr>\n",
       "      <th>152093</th>\n",
       "      <td>1.505771e+08</td>\n",
       "      <td>2014-12-08 20:40:00</td>\n",
       "      <td>2</td>\n",
       "    </tr>\n",
       "    <tr>\n",
       "      <th>177369</th>\n",
       "      <td>1.651917e+08</td>\n",
       "      <td>2013-01-02 15:50:00</td>\n",
       "      <td>2</td>\n",
       "    </tr>\n",
       "    <tr>\n",
       "      <th>181103</th>\n",
       "      <td>1.672364e+08</td>\n",
       "      <td>2016-04-24 14:04:00</td>\n",
       "      <td>2</td>\n",
       "    </tr>\n",
       "    <tr>\n",
       "      <th>197059</th>\n",
       "      <td>1.764183e+08</td>\n",
       "      <td>2015-12-13 16:10:00</td>\n",
       "      <td>2</td>\n",
       "    </tr>\n",
       "    <tr>\n",
       "      <th>198772</th>\n",
       "      <td>1.774835e+08</td>\n",
       "      <td>2013-02-28 18:05:00</td>\n",
       "      <td>2</td>\n",
       "    </tr>\n",
       "    <tr>\n",
       "      <th>210445</th>\n",
       "      <td>1.966885e+08</td>\n",
       "      <td>2014-08-06 21:23:00</td>\n",
       "      <td>2</td>\n",
       "    </tr>\n",
       "    <tr>\n",
       "      <th>219955</th>\n",
       "      <td>2.074232e+08</td>\n",
       "      <td>2017-09-10 18:14:00</td>\n",
       "      <td>2</td>\n",
       "    </tr>\n",
       "    <tr>\n",
       "      <th>270701</th>\n",
       "      <td>6.561688e+08</td>\n",
       "      <td>2013-02-21 18:05:00</td>\n",
       "      <td>2</td>\n",
       "    </tr>\n",
       "    <tr>\n",
       "      <th>274452</th>\n",
       "      <td>9.003276e+08</td>\n",
       "      <td>2016-03-23 23:31:00</td>\n",
       "      <td>2</td>\n",
       "    </tr>\n",
       "    <tr>\n",
       "      <th>319118</th>\n",
       "      <td>9.401752e+08</td>\n",
       "      <td>2017-02-02 22:24:00</td>\n",
       "      <td>2</td>\n",
       "    </tr>\n",
       "    <tr>\n",
       "      <th>319821</th>\n",
       "      <td>9.406343e+08</td>\n",
       "      <td>2016-11-10 19:39:00</td>\n",
       "      <td>2</td>\n",
       "    </tr>\n",
       "    <tr>\n",
       "      <th>326127</th>\n",
       "      <td>9.464253e+08</td>\n",
       "      <td>2016-01-27 20:57:00</td>\n",
       "      <td>2</td>\n",
       "    </tr>\n",
       "    <tr>\n",
       "      <th>326430</th>\n",
       "      <td>9.465991e+08</td>\n",
       "      <td>2013-08-28 01:08:00</td>\n",
       "      <td>2</td>\n",
       "    </tr>\n",
       "    <tr>\n",
       "      <th>343536</th>\n",
       "      <td>9.700926e+08</td>\n",
       "      <td>2015-01-10 04:21:00</td>\n",
       "      <td>2</td>\n",
       "    </tr>\n",
       "    <tr>\n",
       "      <th>343537</th>\n",
       "      <td>9.700926e+08</td>\n",
       "      <td>2015-01-11 05:06:00</td>\n",
       "      <td>2</td>\n",
       "    </tr>\n",
       "    <tr>\n",
       "      <th>352563</th>\n",
       "      <td>9.938617e+08</td>\n",
       "      <td>2014-09-06 21:28:00</td>\n",
       "      <td>2</td>\n",
       "    </tr>\n",
       "    <tr>\n",
       "      <th>353258</th>\n",
       "      <td>9.960456e+08</td>\n",
       "      <td>2017-06-12 11:15:00</td>\n",
       "      <td>2</td>\n",
       "    </tr>\n",
       "    <tr>\n",
       "      <th>359876</th>\n",
       "      <td>1.018592e+09</td>\n",
       "      <td>2014-08-31 15:01:00</td>\n",
       "      <td>2</td>\n",
       "    </tr>\n",
       "    <tr>\n",
       "      <th>361378</th>\n",
       "      <td>2.874176e+09</td>\n",
       "      <td>2015-06-02 14:22:00</td>\n",
       "      <td>2</td>\n",
       "    </tr>\n",
       "    <tr>\n",
       "      <th>362020</th>\n",
       "      <td>2.640202e+10</td>\n",
       "      <td>2013-06-03 08:23:00</td>\n",
       "      <td>2</td>\n",
       "    </tr>\n",
       "    <tr>\n",
       "      <th>365764</th>\n",
       "      <td>2.940749e+10</td>\n",
       "      <td>2016-10-23 00:41:00</td>\n",
       "      <td>2</td>\n",
       "    </tr>\n",
       "  </tbody>\n",
       "</table>\n",
       "</div>"
      ],
      "text/plain": [
       "            id_coded  admission_date_min  0\n",
       "33034   2.915331e+07 2017-02-21 18:01:00  2\n",
       "50540   5.082787e+07 2013-02-01 11:25:00  2\n",
       "75234   7.658438e+07 2013-06-10 09:24:00  2\n",
       "77244   7.910371e+07 2013-01-10 22:08:00  2\n",
       "92624   9.055457e+07 2013-05-21 11:06:00  2\n",
       "143421  1.307948e+08 2013-11-30 15:37:00  2\n",
       "146071  1.385463e+08 2016-10-17 10:57:00  2\n",
       "152093  1.505771e+08 2014-12-08 20:40:00  2\n",
       "177369  1.651917e+08 2013-01-02 15:50:00  2\n",
       "181103  1.672364e+08 2016-04-24 14:04:00  2\n",
       "197059  1.764183e+08 2015-12-13 16:10:00  2\n",
       "198772  1.774835e+08 2013-02-28 18:05:00  2\n",
       "210445  1.966885e+08 2014-08-06 21:23:00  2\n",
       "219955  2.074232e+08 2017-09-10 18:14:00  2\n",
       "270701  6.561688e+08 2013-02-21 18:05:00  2\n",
       "274452  9.003276e+08 2016-03-23 23:31:00  2\n",
       "319118  9.401752e+08 2017-02-02 22:24:00  2\n",
       "319821  9.406343e+08 2016-11-10 19:39:00  2\n",
       "326127  9.464253e+08 2016-01-27 20:57:00  2\n",
       "326430  9.465991e+08 2013-08-28 01:08:00  2\n",
       "343536  9.700926e+08 2015-01-10 04:21:00  2\n",
       "343537  9.700926e+08 2015-01-11 05:06:00  2\n",
       "352563  9.938617e+08 2014-09-06 21:28:00  2\n",
       "353258  9.960456e+08 2017-06-12 11:15:00  2\n",
       "359876  1.018592e+09 2014-08-31 15:01:00  2\n",
       "361378  2.874176e+09 2015-06-02 14:22:00  2\n",
       "362020  2.640202e+10 2013-06-03 08:23:00  2\n",
       "365764  2.940749e+10 2016-10-23 00:41:00  2"
      ]
     },
     "execution_count": 24,
     "metadata": {},
     "output_type": "execute_result"
    }
   ],
   "source": [
    "cnts = data_general_miun.groupby([\"id_coded\", \"admission_date_min\"]).size().reset_index()\n",
    "cnts[cnts[0] > 1]"
   ]
  },
  {
   "cell_type": "code",
   "execution_count": 15,
   "metadata": {},
   "outputs": [
    {
     "data": {
      "text/plain": [
       "366398"
      ]
     },
     "execution_count": 15,
     "metadata": {},
     "output_type": "execute_result"
    }
   ],
   "source": [
    "len(data_general_miun)"
   ]
  },
  {
   "cell_type": "markdown",
   "metadata": {},
   "source": [
    "Lets try to model this"
   ]
  },
  {
   "cell_type": "code",
   "execution_count": 19,
   "metadata": {},
   "outputs": [
    {
     "data": {
      "text/plain": [
       "רפואה דחופה פנימית      230491\n",
       "רפואה דחופה מהלכים      124237\n",
       "פסיכיאטריה                9813\n",
       "רפואה דחופה טראומה        1845\n",
       "רפואה דחופה א.א.ג וכ        12\n",
       "Name: wing_part_description, dtype: int64"
      ]
     },
     "execution_count": 19,
     "metadata": {},
     "output_type": "execute_result"
    }
   ],
   "source": [
    "data_general_miun.wing_part_description.value_counts()"
   ]
  },
  {
   "cell_type": "markdown",
   "metadata": {},
   "source": [
    "Wing part"
   ]
  },
  {
   "cell_type": "code",
   "execution_count": 20,
   "metadata": {},
   "outputs": [],
   "source": [
    "from sklearn.preprocessing import LabelEncoder\n",
    "le = LabelEncoder()\n",
    "data_general_miun['wing'] = le.fit_transform(data_general_miun.wing_part_description.fillna(''))"
   ]
  },
  {
   "cell_type": "code",
   "execution_count": 21,
   "metadata": {},
   "outputs": [
    {
     "data": {
      "text/plain": [
       "<matplotlib.axes._subplots.AxesSubplot at 0x15351c668>"
      ]
     },
     "execution_count": 21,
     "metadata": {},
     "output_type": "execute_result"
    },
    {
     "data": {
      "image/png": "[encoded data removed]",
      "text/plain": [
       "<matplotlib.figure.Figure at 0x15340bda0>"
      ]
     },
     "metadata": {},
     "output_type": "display_data"
    }
   ],
   "source": [
    "sns.barplot(x=data_general_miun.wing_part_description, y=data_general_miun.returned_within_30)"
   ]
  },
  {
   "cell_type": "markdown",
   "metadata": {},
   "source": [
    "ESI"
   ]
  },
  {
   "cell_type": "code",
   "execution_count": 22,
   "metadata": {},
   "outputs": [],
   "source": [
    "import numpy as np\n",
    "es_mn = data_general_miun[data_general_miun.esi_chameleon != 'UNKNOWN'].esi_chameleon.mean()\n",
    "data_general_miun['esi_chameleon_enc'] = np.where(data_general_miun.esi_chameleon == 'UNKNOWN',es_mn,data_general_miun.esi_chameleon)"
   ]
  },
  {
   "cell_type": "code",
   "execution_count": 23,
   "metadata": {},
   "outputs": [
    {
     "data": {
      "text/plain": [
       "<matplotlib.axes._subplots.AxesSubplot at 0x14d6b5c18>"
      ]
     },
     "execution_count": 23,
     "metadata": {},
     "output_type": "execute_result"
    },
    {
     "data": {
      "image/png": "[encoded data removed]",
      "text/plain": [
       "<matplotlib.figure.Figure at 0x17a46c080>"
      ]
     },
     "metadata": {},
     "output_type": "display_data"
    }
   ],
   "source": [
    "sns.barplot(x=data_general_miun.esi_chameleon, y=data_general_miun.returned_within_30)"
   ]
  },
  {
   "cell_type": "markdown",
   "metadata": {},
   "source": [
    "Gender"
   ]
  },
  {
   "cell_type": "code",
   "execution_count": 24,
   "metadata": {},
   "outputs": [
    {
     "data": {
      "text/plain": [
       "<matplotlib.axes._subplots.AxesSubplot at 0x1534d2630>"
      ]
     },
     "execution_count": 24,
     "metadata": {},
     "output_type": "execute_result"
    },
    {
     "data": {
      "image/png": "[encoded data removed]",
      "text/plain": [
       "<matplotlib.figure.Figure at 0x17a3f5278>"
      ]
     },
     "metadata": {},
     "output_type": "display_data"
    }
   ],
   "source": [
    "sns.barplot(x=data_general_miun.gender, y=data_general_miun.returned_within_30)"
   ]
  },
  {
   "cell_type": "markdown",
   "metadata": {},
   "source": [
    "Fever"
   ]
  },
  {
   "cell_type": "code",
   "execution_count": 26,
   "metadata": {},
   "outputs": [
    {
     "data": {
      "text/plain": [
       "<matplotlib.axes._subplots.AxesSubplot at 0x17a2af320>"
      ]
     },
     "execution_count": 26,
     "metadata": {},
     "output_type": "execute_result"
    },
    {
     "data": {
      "image/png": "[encoded data removed]",
      "text/plain": [
       "<matplotlib.figure.Figure at 0x15367b048>"
      ]
     },
     "metadata": {},
     "output_type": "display_data"
    }
   ],
   "source": [
    "from matplotlib import pyplot\n",
    "data_general_miun['fever'] = pd.qcut(data_general_miun['חום'],6).apply(lambda x: x.left).astype(float).fillna(10)\n",
    "nm = 'חום'\n",
    "fig, ax = pyplot.subplots(figsize=(12.7, 4.27))\n",
    "sns.barplot(x=pd.cut(data_general_miun[nm],bins = [36,36.5,37,37.5,38,38.5,39,40,41,42]), y=data_general_miun.returned_within_30,ax=ax)\n"
   ]
  },
  {
   "cell_type": "markdown",
   "metadata": {},
   "source": [
    "Pain"
   ]
  },
  {
   "cell_type": "code",
   "execution_count": 27,
   "metadata": {},
   "outputs": [
    {
     "name": "stderr",
     "output_type": "stream",
     "text": [
      "/anaconda3/lib/python3.6/site-packages/ipykernel_launcher.py:1: RuntimeWarning: invalid value encountered in minimum\n",
      "  \"\"\"Entry point for launching an IPython kernel.\n"
     ]
    },
    {
     "data": {
      "text/plain": [
       "<matplotlib.axes._subplots.AxesSubplot at 0x14d419c88>"
      ]
     },
     "execution_count": 27,
     "metadata": {},
     "output_type": "execute_result"
    },
    {
     "data": {
      "image/png": "[encoded data removed]",
      "text/plain": [
       "<matplotlib.figure.Figure at 0x14d2d8978>"
      ]
     },
     "metadata": {},
     "output_type": "display_data"
    }
   ],
   "source": [
    "pain = np.floor(np.minimum(10,data_general_miun['כאב']))\n",
    "data_general_miun['pain'] = pain.fillna(11)\n",
    "sns.barplot(x=data_general_miun['pain'], y=data_general_miun.returned_within_30)"
   ]
  },
  {
   "cell_type": "markdown",
   "metadata": {},
   "source": [
    "Inflamatory"
   ]
  },
  {
   "cell_type": "code",
   "execution_count": 28,
   "metadata": {},
   "outputs": [
    {
     "data": {
      "text/plain": [
       "<matplotlib.axes._subplots.AxesSubplot at 0x14da140f0>"
      ]
     },
     "execution_count": 28,
     "metadata": {},
     "output_type": "execute_result"
    },
    {
     "data": {
      "image/png": "[encoded data removed]",
      "text/plain": [
       "<matplotlib.figure.Figure at 0x13c1eca90>"
      ]
     },
     "metadata": {},
     "output_type": "display_data"
    }
   ],
   "source": [
    "infl = pd.qcut(pd.to_numeric(data_general_miun['CRP (Inflammatory)'], errors='coerce'),10)\n",
    "infl2 = infl.apply(lambda x: x.left).astype(float).fillna(12)\n",
    "data_general_miun['infl'] = infl2\n",
    "\n",
    "fig, ax = pyplot.subplots(figsize=(12.7, 4.27))\n",
    "\n",
    "sns.barplot(x=infl2, y=data_general_miun.returned_within_30,ax=ax)"
   ]
  },
  {
   "cell_type": "code",
   "execution_count": 29,
   "metadata": {},
   "outputs": [
    {
     "data": {
      "text/plain": [
       "array([0.58239299, 0.58243719, 0.57159065])"
      ]
     },
     "execution_count": 29,
     "metadata": {},
     "output_type": "execute_result"
    }
   ],
   "source": [
    "from sklearn.preprocessing import OneHotEncoder\n",
    "from sklearn.ensemble import RandomForestClassifier\n",
    "from sklearn.model_selection import cross_val_score\n",
    "from sklearn.pipeline import Pipeline\n",
    "\n",
    "\n",
    "\n",
    "ohe = OneHotEncoder(categorical_features=[0,1,2,3])\n",
    "clf = RandomForestClassifier(n_estimators=100,n_jobs=-1)\n",
    "model = Pipeline([('ohe', ohe), ('clf', clf)])\n",
    "cross_val_score(model,data_general_miun[['wing','esi_chameleon_enc','pain','fever']],y=data_general_miun.returned_within_30,cv=3,scoring='roc_auc')\n"
   ]
  },
  {
   "cell_type": "code",
   "execution_count": 32,
   "metadata": {},
   "outputs": [
    {
     "data": {
      "text/plain": [
       "<matplotlib.axes._subplots.AxesSubplot at 0x14d9eab00>"
      ]
     },
     "execution_count": 32,
     "metadata": {},
     "output_type": "execute_result"
    },
    {
     "data": {
      "image/png": "[encoded data removed]",
      "text/plain": [
       "<matplotlib.figure.Figure at 0x1536dca58>"
      ]
     },
     "metadata": {},
     "output_type": "display_data"
    }
   ],
   "source": [
    "fig, ax = pyplot.subplots(figsize=(12.7, 4.27))\n",
    "le = LabelEncoder()\n",
    "data_general_miun['escort_enc'] = le.fit_transform(data_general_miun.escort.astype(str))\n",
    "sns.barplot(x=data_general_miun.escort, y=data_general_miun.returned_within_30,ax=ax)\n"
   ]
  },
  {
   "cell_type": "code",
   "execution_count": 33,
   "metadata": {},
   "outputs": [],
   "source": [
    "import matplotlib as plt\n",
    "def plot_corr(x,y='returned_within_30',df=None, top =15, title ='', sort = True, orient=\"v\"):\n",
    "    if sort:\n",
    "        sortby = y\n",
    "    else:\n",
    "        sortby = x\n",
    "\n",
    "    groups = df.groupby(x, as_index= False)[[y]].mean().sort_values(sortby, ascending = False)\n",
    "    fig, ax = plt.subplots()\n",
    "    fig.set_size_inches(20, 8)\n",
    "    sns.barplot(x=x, y=y, data=df, order=groups[x].head(top),ax=ax, orient=orient)\n",
    "    if len(title) <1:\n",
    "        title = x +' correlation with ' + y\n",
    "    plt.title(title,fontsize=24)\n",
    "    display(groups.head(top)) "
   ]
  },
  {
   "cell_type": "code",
   "execution_count": 66,
   "metadata": {},
   "outputs": [],
   "source": [
    "#plot_corr('escort',df =data_general_miun,sort=False )"
   ]
  },
  {
   "cell_type": "code",
   "execution_count": 34,
   "metadata": {},
   "outputs": [
    {
     "data": {
      "text/plain": [
       "array([0.58094478, 0.58086257, 0.56776904])"
      ]
     },
     "execution_count": 34,
     "metadata": {},
     "output_type": "execute_result"
    }
   ],
   "source": [
    "ohe = OneHotEncoder(categorical_features=[0,1,2,3,4])\n",
    "clf = RandomForestClassifier(n_estimators=100,n_jobs=-1)\n",
    "model = Pipeline([('ohe', ohe), ('clf', clf)])\n",
    "cross_val_score(model,data_general_miun[['wing','esi_chameleon_enc','pain','fever','escort_enc']],y=data_general_miun.returned_within_30,cv=3,scoring='roc_auc')\n"
   ]
  },
  {
   "cell_type": "markdown",
   "metadata": {},
   "source": [
    "#### ER visit history"
   ]
  },
  {
   "cell_type": "code",
   "execution_count": 35,
   "metadata": {},
   "outputs": [],
   "source": [
    "data_general_miun['num_total_prev_visits'] = data_general_miun[['patient_admission_dates','admission_date_min']].apply(lambda x:len([y for y in x[0] if y<x[1]]),axis=1)\n",
    "data_general_miun['num_prev_visits_60days'] = data_general_miun[['patient_admission_dates','admission_date_min']].apply(lambda x:len([y for y in x[0] if y<x[1] and (x[1]-y).days > 60]),axis=1)\n"
   ]
  },
  {
   "cell_type": "code",
   "execution_count": 36,
   "metadata": {},
   "outputs": [
    {
     "data": {
      "text/plain": [
       "<matplotlib.axes._subplots.AxesSubplot at 0x14dc4eef0>"
      ]
     },
     "execution_count": 36,
     "metadata": {},
     "output_type": "execute_result"
    },
    {
     "data": {
      "image/png": "[encoded data removed]",
      "text/plain": [
       "<matplotlib.figure.Figure at 0x14db4d710>"
      ]
     },
     "metadata": {},
     "output_type": "display_data"
    }
   ],
   "source": [
    "sns.barplot(x=np.minimum(5,data_general_miun['num_total_prev_visits']), y=data_general_miun.returned_within_30)\n"
   ]
  },
  {
   "cell_type": "code",
   "execution_count": 37,
   "metadata": {},
   "outputs": [
    {
     "data": {
      "text/plain": [
       "<matplotlib.axes._subplots.AxesSubplot at 0x13c262160>"
      ]
     },
     "execution_count": 37,
     "metadata": {},
     "output_type": "execute_result"
    },
    {
     "data": {
      "image/png": "[encoded data removed]",
      "text/plain": [
       "<matplotlib.figure.Figure at 0x14d3a5048>"
      ]
     },
     "metadata": {},
     "output_type": "display_data"
    }
   ],
   "source": [
    "sns.barplot(x=np.minimum(5,data_general_miun['num_prev_visits_60days']), y=data_general_miun.returned_within_30)\n"
   ]
  },
  {
   "cell_type": "markdown",
   "metadata": {},
   "source": [
    "Age"
   ]
  },
  {
   "cell_type": "code",
   "execution_count": 70,
   "metadata": {},
   "outputs": [],
   "source": [
    "data_general_miun['age_enc'] = pd.cut(data_general_miun.age_on_date, bins = [0,18,40,65,110],labels=range(5-1)).fillna(0)"
   ]
  },
  {
   "cell_type": "markdown",
   "metadata": {},
   "source": [
    "Modeling"
   ]
  },
  {
   "cell_type": "code",
   "execution_count": 73,
   "metadata": {},
   "outputs": [
    {
     "data": {
      "text/plain": [
       "array([0.62329627, 0.62163721, 0.61391093])"
      ]
     },
     "execution_count": 73,
     "metadata": {},
     "output_type": "execute_result"
    }
   ],
   "source": [
    "ohe = OneHotEncoder(categorical_features=[0,1,2,3,4])\n",
    "clf = RandomForestClassifier(n_estimators=100,n_jobs=-1)\n",
    "model = Pipeline([('ohe', ohe), ('clf', clf)])\n",
    "cross_val_score(model,data_general_miun[['wing','esi_chameleon_enc','pain','fever','escort_enc','num_total_prev_visits']],y=data_general_miun.returned_within_30,cv=3,scoring='roc_auc')\n"
   ]
  },
  {
   "cell_type": "code",
   "execution_count": 39,
   "metadata": {},
   "outputs": [],
   "source": [
    "def get_feature_dict(emer_diag,back_diag,alergies,sensitivity,main_cause):\n",
    "    dict = {}\n",
    "    for a in emer_diag:\n",
    "        dict['e'+str(a)] = 1\n",
    "    for a in back_diag:\n",
    "        dict['b'+str(a)] = 1\n",
    "    for a in alergies:\n",
    "        dict['al'+str(a)] = 1\n",
    "    for a in sensitivity:\n",
    "        dict['s'+str(a)] = 1\n",
    "    dict['mc'+str(main_cause)] =1 \n",
    "    #for a in back_diag:\n",
    "    #    dict['mc'+str(main_cause)+ str(a)] =1\n",
    "    #    for b in back_diag:\n",
    "    #        if a < b:\n",
    "    #            dict['b'+str(a) + 'b'+str(b)] = 1\n",
    "    #for a in emer_diag:\n",
    "    #    for b in emer_diag:\n",
    "    #        if a < b:\n",
    "    #            dict['e'+str(a) + 'e'+str(b)] = 1\n",
    "    #for a in emer_diag:\n",
    "    #    for b in alergies:\n",
    "    #        dict['e'+str(a) + 'al'+str(b)] = 1\n",
    "    return dict"
   ]
  },
  {
   "cell_type": "code",
   "execution_count": 40,
   "metadata": {},
   "outputs": [
    {
     "data": {
      "text/plain": [
       "array([0.63520545, 0.6341229 , 0.62947007])"
      ]
     },
     "execution_count": 40,
     "metadata": {},
     "output_type": "execute_result"
    }
   ],
   "source": [
    "#diag_text = data_general_miun[['diagnoses_in_emergency'].apply(lambda x: {y:1 for y in x})\n",
    "#diag_text2 = data_general_miun['background_diagnoses'].apply(lambda x: {y:1 for y in x})\n",
    "diag_text3 = data_general_miun[['background_diagnoses','diagnoses_in_emergency','allergy','sensitivity','main_cause']].apply(lambda x:get_feature_dict(x[1],x[0],x[2],x[3],x[4]),axis=1)\n",
    "                              \n",
    "                              \n",
    "from sklearn.feature_extraction import DictVectorizer\n",
    "from sklearn.linear_model import LogisticRegression\n",
    "dv = DictVectorizer()\n",
    "clf = LogisticRegression()\n",
    "#clf = RandomForestClassifier(n_estimators=100,n_jobs=-1)\n",
    "\n",
    "model = Pipeline([('dv', dv), ('clf', clf)])\n",
    "cross_val_score(model,diag_text3,y=data_general_miun.returned_within_30,cv=3,scoring='roc_auc')\n"
   ]
  },
  {
   "cell_type": "code",
   "execution_count": 64,
   "metadata": {},
   "outputs": [
    {
     "name": "stdout",
     "output_type": "stream",
     "text": [
      "converting numeric columns to numeric...\n"
     ]
    },
    {
     "data": {
      "text/plain": [
       "(366398, 366398)"
      ]
     },
     "execution_count": 64,
     "metadata": {},
     "output_type": "execute_result"
    }
   ],
   "source": [
    "blood_columns = [col for col in data_general_miun.columns.tolist() if col[0].isupper()]\n",
    "heb_columns = ['דופק',\n",
    " 'חום',\n",
    " 'כאב',\n",
    " 'לחץ דיאסטולי',\n",
    " 'לחץ סיסטולי',\n",
    " 'מספר נשימות',\n",
    " 'סטורציה',\n",
    "'סטורציה באויר חדר']\n",
    "\n",
    "data_numeric = data_general_miun[blood_columns+heb_columns].copy()\n",
    "convert_to_numeric(data_numeric,numeric_cols = blood_columns+heb_columns)\n",
    "len(data_general_miun),len(data_numeric)"
   ]
  },
  {
   "cell_type": "code",
   "execution_count": 65,
   "metadata": {},
   "outputs": [
    {
     "data": {
      "text/plain": [
       "array([0.62909057, 0.63241034, 0.61383262])"
      ]
     },
     "execution_count": 65,
     "metadata": {},
     "output_type": "execute_result"
    }
   ],
   "source": [
    "from sklearn.preprocessing import Imputer\n",
    "from xgboost import XGBClassifier\n",
    "imp = Imputer()\n",
    "clf = RandomForestClassifier(n_estimators=100,n_jobs=-1)\n",
    "#clf = XGBClassifier()\n",
    "\n",
    "model = Pipeline([('imp', imp), ('clf', clf)])\n",
    "cross_val_score(model,data_numeric,y=data_general_miun.returned_within_30,cv=3,scoring='roc_auc')\n"
   ]
  },
  {
   "cell_type": "code",
   "execution_count": 50,
   "metadata": {},
   "outputs": [],
   "source": [
    "# Sebastian Raschka 2014-2018\n",
    "# mlxtend Machine Learning Library Extensions\n",
    "#\n",
    "# Object for selecting a dataset column in scikit-learn pipelines.\n",
    "# Author: Sebastian Raschka <sebastianraschka.com>\n",
    "#\n",
    "# License: BSD 3 clause\n",
    "\n",
    "\n",
    "from sklearn.base import BaseEstimator\n",
    "import numpy as np\n",
    "\n",
    "\n",
    "class ColumnSelector(BaseEstimator):\n",
    "    \"\"\"Object for selecting specific columns from a data set.\n",
    "    Parameters\n",
    "    ----------\n",
    "    cols : array-like (default: None)\n",
    "        A list specifying the feature indices to be selected. For example,\n",
    "        [1, 4, 5] to select the 2nd, 5th, and 6th feature columns.\n",
    "        If None, returns all columns in the array.\n",
    "    drop_axis : bool (default=False)\n",
    "        Drops last axis if True and the only one column is selected. This\n",
    "        is useful, e.g., when the ColumnSelector is used for selecting\n",
    "        only one column and the resulting array should be fed to e.g.,\n",
    "        a scikit-learn column selector. E.g., instead of returning an\n",
    "        array with shape (n_samples, 1), drop_axis=True will return an\n",
    "        aray with shape (n_samples,).\n",
    "    Examples\n",
    "    -----------\n",
    "    For usage examples, please see\n",
    "    http://rasbt.github.io/mlxtend/user_guide/feature_selection/ColumnSelector/\n",
    "    \"\"\"\n",
    "\n",
    "    def __init__(self, cols=None, drop_axis=False):\n",
    "        self.cols = cols\n",
    "        self.drop_axis = drop_axis\n",
    "\n",
    "    def fit_transform(self, X, y=None):\n",
    "        \"\"\" Return a slice of the input array.\n",
    "        Parameters\n",
    "        ----------\n",
    "        X : {array-like, sparse matrix}, shape = [n_samples, n_features]\n",
    "            Training vectors, where n_samples is the number of samples and\n",
    "            n_features is the number of features.\n",
    "        y : array-like, shape = [n_samples] (default: None)\n",
    "        Returns\n",
    "        ---------\n",
    "        X_slice : shape = [n_samples, k_features]\n",
    "            Subset of the feature space where k_features <= n_features\n",
    "        \"\"\"\n",
    "        return self.transform(X=X, y=y)\n",
    "\n",
    "    def transform(self, X, y=None):\n",
    "        \"\"\" Return a slice of the input array.\n",
    "        Parameters\n",
    "        ----------\n",
    "        X : {array-like, sparse matrix}, shape = [n_samples, n_features]\n",
    "            Training vectors, where n_samples is the number of samples and\n",
    "            n_features is the number of features.\n",
    "        y : array-like, shape = [n_samples] (default: None)\n",
    "        Returns\n",
    "        ---------\n",
    "        X_slice : shape = [n_samples, k_features]\n",
    "            Subset of the feature space where k_features <= n_features\n",
    "        \"\"\"\n",
    "\n",
    "        # We use the loc accessor if the input is a pandas dataframe\n",
    "        if hasattr(X, 'loc'):\n",
    "            t = X.loc[:, self.cols].values\n",
    "            return t\n",
    "            #t = X.loc[:, self.cols]\n",
    "        else:\n",
    "            print('b')\n",
    "            t = X[:, self.cols]\n",
    "\n",
    "        if t.shape[-1] == 1 and self.drop_axis:\n",
    "            t = t.reshape(-1)\n",
    "        if len(t.shape) == 1 and not self.drop_axis:\n",
    "            t = t[:, np.newaxis]\n",
    "        return t\n",
    "\n",
    "    def fit(self, X, y=None):\n",
    "        \"\"\" Mock method. Does nothing.\n",
    "        Parameters\n",
    "        ----------\n",
    "        X : {array-like, sparse matrix}, shape = [n_samples, n_features]\n",
    "            Training vectors, where n_samples is the number of samples and\n",
    "            n_features is the number of features.\n",
    "        y : array-like, shape = [n_samples] (default: None)\n",
    "        Returns\n",
    "        ---------\n",
    "        self\n",
    "        \"\"\"\n",
    "        return self"
   ]
  },
  {
   "cell_type": "code",
   "execution_count": 77,
   "metadata": {},
   "outputs": [
    {
     "name": "stdout",
     "output_type": "stream",
     "text": [
      "converting numeric columns to numeric...\n"
     ]
    }
   ],
   "source": [
    "data_with_good_numeric = convert_to_numeric(data_general_miun,numeric_cols=blood_columns+heb_columns)\n"
   ]
  },
  {
   "cell_type": "code",
   "execution_count": 78,
   "metadata": {},
   "outputs": [
    {
     "data": {
      "text/plain": [
       "array([0.67496663, 0.67879397, 0.66838188])"
      ]
     },
     "execution_count": 78,
     "metadata": {},
     "output_type": "execute_result"
    }
   ],
   "source": [
    "data_general_miun['dict_features'] = diag_text3\n",
    "from sklearn.preprocessing import FunctionTransformer\n",
    "from sklearn.ensemble import VotingClassifier\n",
    "\n",
    "\n",
    "def select_first(X):\n",
    "    return X[['wing','esi_chameleon_enc','pain','fever','escort_enc','num_total_prev_visits']]\n",
    "def select_second(X):\n",
    "    return X[['dict_features']]\n",
    "\n",
    "ft1 = ColumnSelector(['wing','esi_chameleon_enc','pain','fever','escort_enc','num_total_prev_visits'])\n",
    "ohe = OneHotEncoder(categorical_features=[0,1,2,3,4])\n",
    "rf = RandomForestClassifier(n_estimators=100,n_jobs=-1)\n",
    "pipe1 = Pipeline([('ft1',ft1),('ohe', ohe), ('clf1', rf)])\n",
    "\n",
    "ft2 = ColumnSelector('dict_features')\n",
    "dv = DictVectorizer()\n",
    "lg = LogisticRegression()\n",
    "pipe2 = Pipeline([('ft2',ft2),('dv', dv), ('clf2', lg)])\n",
    "\n",
    "ft3 = ColumnSelector(blood_columns+heb_columns)\n",
    "imp = Imputer()\n",
    "rf2 = RandomForestClassifier(n_estimators=100,n_jobs=-1)\n",
    "pipe3 = Pipeline([('ft3',ft3),('imp', imp), ('clf', rf2)])\n",
    "\n",
    "eclf = VotingClassifier(estimators=[('lg', pipe2), ('rf', pipe1), ('blood' , pipe3)], voting='soft')\n",
    "\n",
    "#cross_val_score(eclf,data_general_miun[['wing','esi_chameleon_enc','pain','fever','escort_enc','num_total_prev_visits','dict_features']+ blood_columns],y=data_general_miun.returned_within_30,cv=3,scoring='roc_auc')\n",
    "cross_val_score(eclf,data_with_good_numeric[['wing','esi_chameleon_enc','pain','fever','escort_enc','num_total_prev_visits','dict_features']+ blood_columns+heb_columns],y=data_with_good_numeric.returned_within_30,cv=3,scoring='roc_auc')\n",
    "\n",
    "\n"
   ]
  },
  {
   "cell_type": "code",
   "execution_count": null,
   "metadata": {},
   "outputs": [],
   "source": [
    "def add_death_columns(frame):\n",
    "\n",
    "   frame.death_date = pd.DatetimeIndex(frame.death_date)\n",
    "\n",
    "   # Was this person hospitalized\n",
    "   frame[\"is_hospitalization\"] = ~frame.hospitalization_in.isna()\n",
    "\n",
    "   frame[\"T_is_dead\"] = ~frame.death_date.isna()\n",
    "\n",
    "   # The real discharge date\n",
    "   frame[\"T_release_date\"] = frame[\"discharge_date_max hospitalization_out\".split()].max(axis=1)\n",
    "\n",
    "   # Total time = ER + hospitalization\n",
    "   frame[\"T_total_time_hospital\"] = frame.T_release_date - frame.admission_date_min\n",
    "\n",
    "   # Mortality of the ER\n",
    "   frame[\"T_mortality_ER\"] = frame.discharge_date_max >= frame.death_date\n",
    "\n",
    "   # Mortality during hospitalization\n",
    "   frame[\"T_mortality_hospitalization\"] = (frame.T_release_date >= frame.death_date) & ~frame.T_mortality_ER\n",
    "\n",
    "   # Mortality after hospitalization\n",
    "   frame[\"T_mortality_after_hospitalization\"] = frame.death_date > frame.T_release_date\n",
    "\n",
    "   #\n",
    "   frame[\"T_mortality2d\"] = frame.death_date <= frame.T_release_date + pd.Timedelta('2d')\n",
    "   frame[\"T_mortality30d\"] = frame.death_date <= frame.T_release_date + pd.Timedelta('30d')\n",
    "   frame[\"T_mortality60d\"] = frame.death_date <= frame.T_release_date + pd.Timedelta('60d')\n",
    "\n",
    "\n",
    "   #\n",
    "   # frame[\"T_is_last_hospitalization\"] = frame.apply(lambda row: row.admission_date_min == frame[frame.id_coded == row.id_coded].admission_date_min.max() ,axis=1)\n",
    "\n",
    "   frame[\"T_mortality_type\"] = frame[\"T_is_dead\"]*(frame[\"T_mortality_ER\"] + 2*frame[\"T_mortality_hospitalization\"] + 3*frame[\"T_mortality_after_hospitalization\"])\n",
    "\n",
    "   return frame\n",
    "add_death_columns(data_general_miun)"
   ]
  },
  {
   "cell_type": "code",
   "execution_count": null,
   "metadata": {},
   "outputs": [],
   "source": []
  },
  {
   "cell_type": "code",
   "execution_count": null,
   "metadata": {},
   "outputs": [],
   "source": []
  },
  {
   "cell_type": "code",
   "execution_count": null,
   "metadata": {},
   "outputs": [],
   "source": []
  },
  {
   "cell_type": "code",
   "execution_count": null,
   "metadata": {},
   "outputs": [],
   "source": []
  },
  {
   "cell_type": "code",
   "execution_count": 62,
   "metadata": {},
   "outputs": [
    {
     "data": {
      "text/plain": [
       "CT מוח ללא חומר ניגוד                         28541\n",
       "CT מוח כולל עצמות פנים ללא ח\"נ                 1927\n",
       "CT עמוד שדרה צוארי, ללא חומר ניגוד             1431\n",
       "CT בטן אגן עם שתיה,ללא ועם ח\"נ                 1099\n",
       "CT פרוטוקול אבנים ללא חומר ניגוד               1099\n",
       "CT בטן אגן עם שתיה,עם ח\"נ                       960\n",
       "CT STROKE מוח ללא חומר ניגוד לבירור             926\n",
       "CT עמוד שדרה מותני, ללא חומר ניגוד              860\n",
       "CTA עורקי הריאה (PE)                            673\n",
       "CT מוח כולל ארובות ללא ח\"נ                      424\n",
       "CT ברך ללא חומר ניגוד                           306\n",
       "CT עצמות האגן ללא חומר ניגוד                    295\n",
       "CT כתף ללא חומר ניגוד                           258\n",
       "CT חזה בטן אגן ללא שתיה ,ללא ועם ח\"נ            255\n",
       "CT רקמות רכות בצואר, ללא חומר ניגוד             250\n",
       " CTA עורקי צוואר ומוח                           249\n",
       "CTAV ורידי הראש                                 220\n",
       "CT בטן אגן ללא שתיה, ללא ועם ח\"נ                177\n",
       "CT בטן אגן ללא שתיה וללא ח\"נ                    152\n",
       "CT כף רגל\\אצבעות ללא חומר ניגוד                 152\n",
       "CTA עורקי הראש                                  149\n",
       "CTA אאורטה בבית החזה                            143\n",
       "CT שורש כף יד ללא חומר ניגוד                    140\n",
       "CT קרסול ללא חומר ניגוד                         133\n",
       "CT עמוד שדרה גבי-מותני ללא ח\"נ                  132\n",
       "דו-צדדי                                         126\n",
       "CT מרפק ללא חומר ניגוד                          114\n",
       "CT מערות פנים ללא חומר ניגוד                    111\n",
       "CT אברי האגן ללא שתיה,ללא ועם חומר ניגוד        109\n",
       "CT עצמות פנים ללא חומר ניגוד                    100\n",
       "                                              ...  \n",
       "CT פרוטוקול לבלב                                  3\n",
       "CT ירך עם חומר ניגוד                              3\n",
       "CT זרוע ללא חומר ניגוד                            3\n",
       "CT עמוד שדרה גבי-מותני עם ח\"נ                     3\n",
       "CTA TRIPLE RULE OUT                               2\n",
       "CT מפרק הירך עם חומר ניגוד                        2\n",
       "CT מפרק עצם החזה\\עצם הבריח ללא חומר ניגוד         2\n",
       "CT כתף עם חומר ניגוד                              2\n",
       "CT חזה בטן אגן עם שתיה ללא ח\"נ                    2\n",
       "CT תלת-פאזי של הכבד                               2\n",
       "CT לשחזור רב-מימדי של הלסתות ללא ח\"נ              2\n",
       "CTA אאורטה חזית ובטנית בהרדמה                     1\n",
       "CTArthro של הקרסול                                1\n",
       "CTA ורידי הגף התחתון                              1\n",
       "CT עצם החזה ללא חומר ניגוד                        1\n",
       "CT זרוע עם חומר ניגוד                             1\n",
       "CT עמוד שדרה גבי, עם חומר ניגוד                   1\n",
       "CT בטן אגן ללא שתיה וללא ח\"נ בהרדמה               1\n",
       "CTA ורידי הגף העליון                              1\n",
       "CTA עורקי חגורה עליונה                            1\n",
       "CT אמה ללא חומר ניגוד                             1\n",
       "CTA ABL ורידי הריאה לפני                          1\n",
       "CTA עורקי הכליות                                  1\n",
       "CT כף רגל\\אצבעות עם חומר ניגוד                    1\n",
       "CTI החדרה של נקז לפלאורה                          1\n",
       "CT ברך עם חומר ניגוד                              1\n",
       "CT בטן, אגן וציסטוגרפיה ללא ועם חומר ניגוד        1\n",
       "CT שורש כף יד עם חומר ניגוד                       1\n",
       "CTA מעקפים כליליים                                1\n",
       "CTA עורקי הזרוע                                   1\n",
       "Name: auxiliary_test_name, Length: 112, dtype: int64"
      ]
     },
     "execution_count": 62,
     "metadata": {},
     "output_type": "execute_result"
    }
   ],
   "source": [
    "data_general_miun.auxiliary_test_name"
   ]
  },
  {
   "cell_type": "code",
   "execution_count": 92,
   "metadata": {},
   "outputs": [
    {
     "data": {
      "text/plain": [
       "['Albumin -Blood',\n",
       " 'Alkaline phosphatase -Blood',\n",
       " 'Amylase -Blood',\n",
       " 'Bilirubin -Blood, total',\n",
       " 'CK-MB%',\n",
       " 'CPK -Blood ,total',\n",
       " 'CPK-MB',\n",
       " 'CRP (Inflammatory)',\n",
       " 'Calcium -Blood, total',\n",
       " 'Chloride -Blood',\n",
       " 'Cholesterol, total',\n",
       " 'Creatinine -Blood',\n",
       " 'EOS abs.',\n",
       " 'Gamma GT -Blood',\n",
       " 'Glucose -Blood',\n",
       " 'HCO3',\n",
       " 'HDL-Cholesterol, direct',\n",
       " 'HGB',\n",
       " 'HbA1C %',\n",
       " 'INR',\n",
       " 'LDH -Blood',\n",
       " 'LDL Cholesterol, direct',\n",
       " 'LYMPHO abs.',\n",
       " 'Lactate',\n",
       " 'Lipase, pancreatic',\n",
       " 'MCV',\n",
       " 'NEUTRO abs.',\n",
       " 'Osmolality (calc.)',\n",
       " 'PCO2',\n",
       " 'PH',\n",
       " 'PLT',\n",
       " 'PO2',\n",
       " 'PT',\n",
       " 'PTT',\n",
       " 'Phosphorus -Blood',\n",
       " 'Potassium -Blood',\n",
       " 'Protein -Blood, total',\n",
       " 'SGOT (AST) -Blood',\n",
       " 'SGPT (ALT) -Blood',\n",
       " 'Sodium -Blood',\n",
       " 'T3, free',\n",
       " 'T4, free',\n",
       " 'TSH',\n",
       " 'Triglycerides',\n",
       " 'Troponin-I',\n",
       " 'Urea -Blood',\n",
       " 'WBC',\n",
       " 'admission_date_chameleon',\n",
       " 'admission_date_min',\n",
       " 'age_on_date',\n",
       " 'allergy',\n",
       " 'auxiliary_test_date',\n",
       " 'auxiliary_test_name',\n",
       " 'background_diagnoses',\n",
       " 'birth_date',\n",
       " 'days_in_hospital',\n",
       " 'death_date',\n",
       " 'diagnoses_in_emergency',\n",
       " 'diagnoses_in_hospital',\n",
       " 'diagnoses_on_reception',\n",
       " 'diagnoses_on_release',\n",
       " 'diagnosis_1',\n",
       " 'diagnosis_2',\n",
       " 'diagnosis_3',\n",
       " 'discharge_date_chameleon',\n",
       " 'discharge_date_max',\n",
       " 'discharge_to_chameleon',\n",
       " 'drugs_for_further_treatment_on_reception',\n",
       " 'drugs_for_further_treatment_on_release',\n",
       " 'drugs_in_emergency',\n",
       " 'drugs_in_hospital',\n",
       " 'emergency_wing',\n",
       " 'emergency_wing_chameleon',\n",
       " 'escort',\n",
       " 'esi_chameleon',\n",
       " 'gender',\n",
       " 'hospitalization_in',\n",
       " 'hospitalization_out',\n",
       " 'hospitalization_unit',\n",
       " 'id_coded',\n",
       " 'insurance',\n",
       " 'main_cause',\n",
       " 'recommended_drugs_emergency',\n",
       " 'referral_code',\n",
       " 'referrer',\n",
       " 'regular_drugs_emergency',\n",
       " 'regular_drugs_on_reception',\n",
       " 'regular_drugs_on_release',\n",
       " 'release_from_hospital',\n",
       " 'sensitivity',\n",
       " 'wing_part',\n",
       " 'wing_part_chameleon',\n",
       " 'wing_part_description',\n",
       " 'דופק',\n",
       " 'חום',\n",
       " 'כאב',\n",
       " 'לחץ דיאסטולי',\n",
       " 'לחץ סיסטולי',\n",
       " 'מספר נשימות',\n",
       " 'סטורציה',\n",
       " 'סטורציה באויר חדר',\n",
       " 'patient_admission_dates',\n",
       " 'returned_within_30',\n",
       " 'hospitalization_time',\n",
       " 'wing',\n",
       " 'esi_chameleon_enc',\n",
       " 'fever',\n",
       " 'pain',\n",
       " 'infl',\n",
       " 'escort_enc',\n",
       " 'num_total_prev_visits',\n",
       " 'num_prev_visits_60days']"
      ]
     },
     "execution_count": 92,
     "metadata": {},
     "output_type": "execute_result"
    }
   ],
   "source": [
    "data_general_miun.columns.tolist()"
   ]
  },
  {
   "cell_type": "markdown",
   "metadata": {},
   "source": [
    "### Albumin -Blood"
   ]
  },
  {
   "cell_type": "code",
   "execution_count": 95,
   "metadata": {},
   "outputs": [
    {
     "data": {
      "text/plain": [
       "62064"
      ]
     },
     "execution_count": 95,
     "metadata": {},
     "output_type": "execute_result"
    }
   ],
   "source": [
    "data_general_miun['Albumin -Blood']\n",
    "sum(~data_general_miun['Albumin -Blood'].isnull())"
   ]
  },
  {
   "cell_type": "code",
   "execution_count": 138,
   "metadata": {},
   "outputs": [
    {
     "name": "stdout",
     "output_type": "stream",
     "text": [
      "62064\n"
     ]
    },
    {
     "data": {
      "text/html": [
       "<div>\n",
       "<style scoped>\n",
       "    .dataframe tbody tr th:only-of-type {\n",
       "        vertical-align: middle;\n",
       "    }\n",
       "\n",
       "    .dataframe tbody tr th {\n",
       "        vertical-align: top;\n",
       "    }\n",
       "\n",
       "    .dataframe thead th {\n",
       "        text-align: right;\n",
       "    }\n",
       "</style>\n",
       "<table border=\"1\" class=\"dataframe\">\n",
       "  <thead>\n",
       "    <tr style=\"text-align: right;\">\n",
       "      <th></th>\n",
       "      <th>Albumin -Blood</th>\n",
       "      <th>returned_within_30</th>\n",
       "    </tr>\n",
       "  </thead>\n",
       "  <tbody>\n",
       "  </tbody>\n",
       "</table>\n",
       "</div>"
      ],
      "text/plain": [
       "Empty DataFrame\n",
       "Columns: [Albumin -Blood, returned_within_30]\n",
       "Index: []"
      ]
     },
     "execution_count": 138,
     "metadata": {},
     "output_type": "execute_result"
    }
   ],
   "source": [
    "d2 = data_general_miun[['Albumin -Blood','returned_within_30']].replace('<1.5',1.5).dropna()\n",
    "print(len(d2))\n",
    "d2.sample(5)\n",
    "d2[d2['Albumin -Blood'] == '<1.5']"
   ]
  },
  {
   "cell_type": "code",
   "execution_count": 141,
   "metadata": {},
   "outputs": [
    {
     "data": {
      "text/plain": [
       "0.3808425397304291"
      ]
     },
     "execution_count": 141,
     "metadata": {},
     "output_type": "execute_result"
    }
   ],
   "source": [
    "from sklearn.metrics import roc_auc_score\n",
    "roc_auc_score(y_true = d2.returned_within_30, y_score=d2['Albumin -Blood'].astype(float))"
   ]
  },
  {
   "cell_type": "code",
   "execution_count": 206,
   "metadata": {},
   "outputs": [
    {
     "data": {
      "text/plain": [
       "0.619157460269571"
      ]
     },
     "execution_count": 206,
     "metadata": {},
     "output_type": "execute_result"
    }
   ],
   "source": [
    "roc_auc_score(y_true = ~d2.returned_within_30, y_score=d2['Albumin -Blood'].astype(float))"
   ]
  },
  {
   "cell_type": "code",
   "execution_count": 147,
   "metadata": {},
   "outputs": [
    {
     "data": {
      "text/plain": [
       "<matplotlib.axes._subplots.AxesSubplot at 0x1939ae9e8>"
      ]
     },
     "execution_count": 147,
     "metadata": {},
     "output_type": "execute_result"
    },
    {
     "data": {
      "image/png": "[encoded data removed]",
      "text/plain": [
       "<matplotlib.figure.Figure at 0x1939a9550>"
      ]
     },
     "metadata": {},
     "output_type": "display_data"
    }
   ],
   "source": [
    "fig, ax = pyplot.subplots(figsize=(12.7, 4.27))\n",
    "sns.barplot(x=pd.cut(d2['Albumin -Blood'].astype(float),bins=[1,1.5,2,2.5,3,3.5,4,4.5,5,5.5,6,7,10]), y=d2.returned_within_30,ax=ax)"
   ]
  },
  {
   "cell_type": "markdown",
   "metadata": {},
   "source": [
    "### WBC"
   ]
  },
  {
   "cell_type": "code",
   "execution_count": 148,
   "metadata": {},
   "outputs": [
    {
     "data": {
      "text/plain": [
       "203239"
      ]
     },
     "execution_count": 148,
     "metadata": {},
     "output_type": "execute_result"
    }
   ],
   "source": [
    "sum(~data_general_miun['WBC'].isnull())"
   ]
  },
  {
   "cell_type": "code",
   "execution_count": 198,
   "metadata": {},
   "outputs": [
    {
     "data": {
      "text/plain": [
       "203239"
      ]
     },
     "execution_count": 198,
     "metadata": {},
     "output_type": "execute_result"
    }
   ],
   "source": [
    "data_general_miun.WBC.filter(lambda x: type(x) ==str)"
   ]
  },
  {
   "cell_type": "code",
   "execution_count": 200,
   "metadata": {},
   "outputs": [
    {
     "data": {
      "text/plain": [
       "'99.63'"
      ]
     },
     "execution_count": 200,
     "metadata": {},
     "output_type": "execute_result"
    }
   ],
   "source": [
    "data_general_miun[['WBC','returned_within_30']]\n",
    "d3= data_general_miun[~pd.to_numeric(data_general_miun.WBC,errors = 'coerse').isnull()][['WBC','returned_within_30']].dropna()\n",
    "max(d3.WBC)"
   ]
  },
  {
   "cell_type": "code",
   "execution_count": 205,
   "metadata": {},
   "outputs": [
    {
     "data": {
      "text/plain": [
       "<matplotlib.axes._subplots.AxesSubplot at 0x197d9b2e8>"
      ]
     },
     "execution_count": 205,
     "metadata": {},
     "output_type": "execute_result"
    },
    {
     "data": {
      "image/png": "[encoded data removed]",
      "text/plain": [
       "<matplotlib.figure.Figure at 0x193de6748>"
      ]
     },
     "metadata": {},
     "output_type": "display_data"
    }
   ],
   "source": [
    "fig, ax = pyplot.subplots(figsize=(12.7, 4.27))\n",
    "sns.barplot(x=pd.cut(d3['WBC'].astype(float),bins=[0,10,15,20,25,30,35,70]), y=d3.returned_within_30,ax=ax)"
   ]
  },
  {
   "cell_type": "code",
   "execution_count": 211,
   "metadata": {},
   "outputs": [
    {
     "data": {
      "text/plain": [
       "0.513121589026709"
      ]
     },
     "execution_count": 211,
     "metadata": {},
     "output_type": "execute_result"
    }
   ],
   "source": [
    "roc_auc_score(y_true=d3.returned_within_30,y_score=d3.WBC.astype(float))"
   ]
  },
  {
   "cell_type": "markdown",
   "metadata": {},
   "source": [
    "### HGB"
   ]
  },
  {
   "cell_type": "code",
   "execution_count": 207,
   "metadata": {},
   "outputs": [
    {
     "data": {
      "text/plain": [
       "203065"
      ]
     },
     "execution_count": 207,
     "metadata": {},
     "output_type": "execute_result"
    }
   ],
   "source": [
    "sum(~data_general_miun.HGB.isnull())"
   ]
  },
  {
   "cell_type": "code",
   "execution_count": 214,
   "metadata": {},
   "outputs": [
    {
     "data": {
      "text/plain": [
       "22.16"
      ]
     },
     "execution_count": 214,
     "metadata": {},
     "output_type": "execute_result"
    }
   ],
   "source": [
    "d4= data_general_miun[~pd.to_numeric(data_general_miun.HGB,errors = 'coerse').isnull()][['HGB','returned_within_30']].dropna()\n",
    "max(d4.HGB.astype(float))"
   ]
  },
  {
   "cell_type": "code",
   "execution_count": 215,
   "metadata": {},
   "outputs": [
    {
     "data": {
      "text/plain": [
       "<matplotlib.axes._subplots.AxesSubplot at 0x19393fda0>"
      ]
     },
     "execution_count": 215,
     "metadata": {},
     "output_type": "execute_result"
    },
    {
     "data": {
      "image/png": "[encoded data removed]",
      "text/plain": [
       "<matplotlib.figure.Figure at 0x19556fe10>"
      ]
     },
     "metadata": {},
     "output_type": "display_data"
    }
   ],
   "source": [
    "fig, ax = pyplot.subplots(figsize=(12.7, 4.27))\n",
    "sns.barplot(x=pd.cut(d4['HGB'].astype(float),bins=[0,3,6,9,12,15,18,21,25]), y=d4.returned_within_30,ax=ax)"
   ]
  },
  {
   "cell_type": "code",
   "execution_count": 217,
   "metadata": {},
   "outputs": [
    {
     "data": {
      "text/plain": [
       "0.5661990869598504"
      ]
     },
     "execution_count": 217,
     "metadata": {},
     "output_type": "execute_result"
    }
   ],
   "source": [
    "roc_auc_score(y_true=~d4.returned_within_30,y_score=d4.HGB.astype(float))"
   ]
  },
  {
   "cell_type": "code",
   "execution_count": 43,
   "metadata": {},
   "outputs": [],
   "source": [
    "def convert_to_numeric(data, numeric_cols = [], ignore_strs=['<','>'],convert_str_map= {}):   \n",
    "    print('converting numeric columns to numeric...')\n",
    "    data_numeric= data[numeric_cols].copy()\n",
    "    for st in ignore_strs:\n",
    "        data_numeric=data_numeric.applymap(lambda s: s.replace(st,'') if type(s)==str else s)\n",
    "    for st in convert_str_map.keys():\n",
    "        data_numeric=data_numeric.applymap(lambda s: s.replace(st,convert_str_map[st]) if type(s)==str else s)\n",
    "    data_numeric = data_numeric.apply(pd.to_numeric, errors='coerce')\n",
    "    data[numeric_cols] = data_numeric\n",
    "    return data"
   ]
  },
  {
   "cell_type": "markdown",
   "metadata": {},
   "source": [
    "### PLT"
   ]
  },
  {
   "cell_type": "code",
   "execution_count": 219,
   "metadata": {},
   "outputs": [
    {
     "name": "stdout",
     "output_type": "stream",
     "text": [
      "converting numeric columns to numeric...\n"
     ]
    },
    {
     "name": "stderr",
     "output_type": "stream",
     "text": [
      "/anaconda3/lib/python3.6/site-packages/pandas/core/frame.py:2540: SettingWithCopyWarning: \n",
      "A value is trying to be set on a copy of a slice from a DataFrame.\n",
      "Try using .loc[row_indexer,col_indexer] = value instead\n",
      "\n",
      "See the caveats in the documentation: http://pandas.pydata.org/pandas-docs/stable/indexing.html#indexing-view-versus-copy\n",
      "  self[k1] = value[k2]\n"
     ]
    },
    {
     "data": {
      "text/plain": [
       "365850"
      ]
     },
     "execution_count": 219,
     "metadata": {},
     "output_type": "execute_result"
    }
   ],
   "source": [
    "d5 = convert_to_numeric(data_general_miun[['PLT','returned_within_30']],numeric_cols=['PLT'])\n",
    "len(d5)"
   ]
  },
  {
   "cell_type": "code",
   "execution_count": 224,
   "metadata": {},
   "outputs": [
    {
     "data": {
      "text/plain": [
       "<matplotlib.axes._subplots.AxesSubplot at 0x194d41358>"
      ]
     },
     "execution_count": 224,
     "metadata": {},
     "output_type": "execute_result"
    },
    {
     "data": {
      "image/png": "[encoded data removed]",
      "text/plain": [
       "<matplotlib.figure.Figure at 0x1652a6128>"
      ]
     },
     "metadata": {},
     "output_type": "display_data"
    }
   ],
   "source": [
    "fig, ax = pyplot.subplots(figsize=(12.7, 4.27))\n",
    "sns.barplot(x=pd.qcut(d5['PLT'].astype(float),15), y=d5.returned_within_30,ax=ax)"
   ]
  },
  {
   "cell_type": "markdown",
   "metadata": {},
   "source": [
    "### Creatinie"
   ]
  },
  {
   "cell_type": "code",
   "execution_count": 235,
   "metadata": {},
   "outputs": [
    {
     "name": "stdout",
     "output_type": "stream",
     "text": [
      "converting numeric columns to numeric...\n"
     ]
    },
    {
     "name": "stderr",
     "output_type": "stream",
     "text": [
      "/anaconda3/lib/python3.6/site-packages/pandas/core/frame.py:2540: SettingWithCopyWarning: \n",
      "A value is trying to be set on a copy of a slice from a DataFrame.\n",
      "Try using .loc[row_indexer,col_indexer] = value instead\n",
      "\n",
      "See the caveats in the documentation: http://pandas.pydata.org/pandas-docs/stable/indexing.html#indexing-view-versus-copy\n",
      "  self[k1] = value[k2]\n"
     ]
    },
    {
     "data": {
      "text/plain": [
       "202484"
      ]
     },
     "execution_count": 235,
     "metadata": {},
     "output_type": "execute_result"
    }
   ],
   "source": [
    "nm = 'Creatinine -Blood'\n",
    "d6 = convert_to_numeric(data_general_miun[['Creatinine -Blood','returned_within_30']],numeric_cols=['Creatinine -Blood']).dropna()\n",
    "len(d6)"
   ]
  },
  {
   "cell_type": "code",
   "execution_count": 236,
   "metadata": {},
   "outputs": [
    {
     "data": {
      "text/plain": [
       "<matplotlib.axes._subplots.AxesSubplot at 0x139ed9b38>"
      ]
     },
     "execution_count": 236,
     "metadata": {},
     "output_type": "execute_result"
    },
    {
     "data": {
      "image/png": "[encoded data removed]",
      "text/plain": [
       "<matplotlib.figure.Figure at 0x1913fb358>"
      ]
     },
     "metadata": {},
     "output_type": "display_data"
    }
   ],
   "source": [
    "fig, ax = pyplot.subplots(figsize=(12.7, 4.27))\n",
    "sns.barplot(x=pd.qcut(d6[nm].astype(float),10), y=d6.returned_within_30,ax=ax)"
   ]
  },
  {
   "cell_type": "code",
   "execution_count": 237,
   "metadata": {},
   "outputs": [
    {
     "data": {
      "text/plain": [
       "0.5386018640854137"
      ]
     },
     "execution_count": 237,
     "metadata": {},
     "output_type": "execute_result"
    }
   ],
   "source": [
    "roc_auc_score(y_true=d6.returned_within_30,y_score=d6[nm].astype(float))"
   ]
  },
  {
   "cell_type": "markdown",
   "metadata": {},
   "source": [
    "### UREA"
   ]
  },
  {
   "cell_type": "code",
   "execution_count": 266,
   "metadata": {},
   "outputs": [
    {
     "name": "stdout",
     "output_type": "stream",
     "text": [
      "converting numeric columns to numeric...\n"
     ]
    },
    {
     "name": "stderr",
     "output_type": "stream",
     "text": [
      "/anaconda3/lib/python3.6/site-packages/pandas/core/frame.py:2540: SettingWithCopyWarning: \n",
      "A value is trying to be set on a copy of a slice from a DataFrame.\n",
      "Try using .loc[row_indexer,col_indexer] = value instead\n",
      "\n",
      "See the caveats in the documentation: http://pandas.pydata.org/pandas-docs/stable/indexing.html#indexing-view-versus-copy\n",
      "  self[k1] = value[k2]\n"
     ]
    },
    {
     "name": "stdout",
     "output_type": "stream",
     "text": [
      "0.5473510088948259\n",
      "converting numeric columns to numeric...\n",
      "(0.06843045145488925, 8.597612306942319e-209)\n"
     ]
    }
   ],
   "source": [
    "from sklearn.metrics import cohen_kappa_score\n",
    "def get_auc(col_name):\n",
    "    d = convert_to_numeric(data_general_miun[[col_name,'returned_within_30']],numeric_cols=[col_name]).dropna()\n",
    "    auc = roc_auc_score(y_true=d.returned_within_30,y_score=d[col_name].astype(float))\n",
    "    return max(auc,1-auc)\n",
    "\n",
    "def get_cohen_kappa(col_name,low,high):\n",
    "    d = convert_to_numeric(data_general_miun[[col_name,'returned_within_30']],numeric_cols=[col_name]).dropna()\n",
    "    a = ((d[col_name] < low) | (d[col_name] > high))\n",
    "    kappa = pearsonr(a,d['returned_within_30'])\n",
    "    return kappa\n",
    "    \n",
    "print(get_auc('Urea -Blood'))\n",
    "print(get_cohen_kappa('Urea -Blood',15,45))"
   ]
  },
  {
   "cell_type": "code",
   "execution_count": 243,
   "metadata": {},
   "outputs": [
    {
     "data": {
      "text/plain": [
       "['Albumin -Blood',\n",
       " 'Alkaline phosphatase -Blood',\n",
       " 'Amylase -Blood',\n",
       " 'Bilirubin -Blood, total',\n",
       " 'CK-MB%',\n",
       " 'CPK -Blood ,total',\n",
       " 'CPK-MB',\n",
       " 'CRP (Inflammatory)',\n",
       " 'Calcium -Blood, total',\n",
       " 'Chloride -Blood',\n",
       " 'Cholesterol, total',\n",
       " 'Creatinine -Blood',\n",
       " 'EOS abs.',\n",
       " 'Gamma GT -Blood',\n",
       " 'Glucose -Blood',\n",
       " 'HCO3',\n",
       " 'HDL-Cholesterol, direct',\n",
       " 'HGB',\n",
       " 'HbA1C %',\n",
       " 'INR',\n",
       " 'LDH -Blood',\n",
       " 'LDL Cholesterol, direct',\n",
       " 'LYMPHO abs.',\n",
       " 'Lactate',\n",
       " 'Lipase, pancreatic',\n",
       " 'MCV',\n",
       " 'NEUTRO abs.',\n",
       " 'Osmolality (calc.)',\n",
       " 'PCO2',\n",
       " 'PH',\n",
       " 'PLT',\n",
       " 'PO2',\n",
       " 'PT',\n",
       " 'PTT',\n",
       " 'Phosphorus -Blood',\n",
       " 'Potassium -Blood',\n",
       " 'Protein -Blood, total',\n",
       " 'SGOT (AST) -Blood',\n",
       " 'SGPT (ALT) -Blood',\n",
       " 'Sodium -Blood',\n",
       " 'T3, free',\n",
       " 'T4, free',\n",
       " 'TSH',\n",
       " 'Triglycerides',\n",
       " 'Troponin-I',\n",
       " 'Urea -Blood',\n",
       " 'WBC',\n",
       " 'admission_date_chameleon',\n",
       " 'admission_date_min',\n",
       " 'age_on_date',\n",
       " 'allergy',\n",
       " 'auxiliary_test_date',\n",
       " 'auxiliary_test_name',\n",
       " 'background_diagnoses',\n",
       " 'birth_date',\n",
       " 'days_in_hospital',\n",
       " 'death_date',\n",
       " 'diagnoses_in_emergency',\n",
       " 'diagnoses_in_hospital',\n",
       " 'diagnoses_on_reception',\n",
       " 'diagnoses_on_release',\n",
       " 'diagnosis_1',\n",
       " 'diagnosis_2',\n",
       " 'diagnosis_3',\n",
       " 'discharge_date_chameleon',\n",
       " 'discharge_date_max',\n",
       " 'discharge_to_chameleon',\n",
       " 'drugs_for_further_treatment_on_reception',\n",
       " 'drugs_for_further_treatment_on_release',\n",
       " 'drugs_in_emergency',\n",
       " 'drugs_in_hospital',\n",
       " 'emergency_wing',\n",
       " 'emergency_wing_chameleon',\n",
       " 'escort',\n",
       " 'esi_chameleon',\n",
       " 'gender',\n",
       " 'hospitalization_in',\n",
       " 'hospitalization_out',\n",
       " 'hospitalization_unit',\n",
       " 'id_coded',\n",
       " 'insurance',\n",
       " 'main_cause',\n",
       " 'recommended_drugs_emergency',\n",
       " 'referral_code',\n",
       " 'referrer',\n",
       " 'regular_drugs_emergency',\n",
       " 'regular_drugs_on_reception',\n",
       " 'regular_drugs_on_release',\n",
       " 'release_from_hospital',\n",
       " 'sensitivity',\n",
       " 'wing_part',\n",
       " 'wing_part_chameleon',\n",
       " 'wing_part_description',\n",
       " 'דופק',\n",
       " 'חום',\n",
       " 'כאב',\n",
       " 'לחץ דיאסטולי',\n",
       " 'לחץ סיסטולי',\n",
       " 'מספר נשימות',\n",
       " 'סטורציה',\n",
       " 'סטורציה באויר חדר',\n",
       " 'patient_admission_dates',\n",
       " 'returned_within_30',\n",
       " 'hospitalization_time',\n",
       " 'wing',\n",
       " 'esi_chameleon_enc',\n",
       " 'fever',\n",
       " 'pain',\n",
       " 'infl',\n",
       " 'escort_enc',\n",
       " 'num_total_prev_visits',\n",
       " 'num_prev_visits_60days']"
      ]
     },
     "execution_count": 243,
     "metadata": {},
     "output_type": "execute_result"
    }
   ],
   "source": [
    "data_general_miun.columns.tolist()"
   ]
  },
  {
   "cell_type": "markdown",
   "metadata": {},
   "source": [
    "### LDH"
   ]
  },
  {
   "cell_type": "code",
   "execution_count": 268,
   "metadata": {},
   "outputs": [
    {
     "name": "stdout",
     "output_type": "stream",
     "text": [
      "converting numeric columns to numeric...\n"
     ]
    },
    {
     "name": "stderr",
     "output_type": "stream",
     "text": [
      "/anaconda3/lib/python3.6/site-packages/pandas/core/frame.py:2540: SettingWithCopyWarning: \n",
      "A value is trying to be set on a copy of a slice from a DataFrame.\n",
      "Try using .loc[row_indexer,col_indexer] = value instead\n",
      "\n",
      "See the caveats in the documentation: http://pandas.pydata.org/pandas-docs/stable/indexing.html#indexing-view-versus-copy\n",
      "  self[k1] = value[k2]\n"
     ]
    },
    {
     "name": "stdout",
     "output_type": "stream",
     "text": [
      "0.5587190366227334\n",
      "converting numeric columns to numeric...\n",
      "(0.0784588160472094, 3.5930778024234623e-150)\n"
     ]
    }
   ],
   "source": [
    "print(get_auc('LDH -Blood'))\n",
    "print(get_cohen_kappa('LDH -Blood',100,260))"
   ]
  },
  {
   "cell_type": "markdown",
   "metadata": {},
   "source": [
    "### AST"
   ]
  },
  {
   "cell_type": "code",
   "execution_count": 269,
   "metadata": {},
   "outputs": [
    {
     "name": "stdout",
     "output_type": "stream",
     "text": [
      "converting numeric columns to numeric...\n"
     ]
    },
    {
     "name": "stderr",
     "output_type": "stream",
     "text": [
      "/anaconda3/lib/python3.6/site-packages/pandas/core/frame.py:2540: SettingWithCopyWarning: \n",
      "A value is trying to be set on a copy of a slice from a DataFrame.\n",
      "Try using .loc[row_indexer,col_indexer] = value instead\n",
      "\n",
      "See the caveats in the documentation: http://pandas.pydata.org/pandas-docs/stable/indexing.html#indexing-view-versus-copy\n",
      "  self[k1] = value[k2]\n"
     ]
    },
    {
     "name": "stdout",
     "output_type": "stream",
     "text": [
      "0.523002950217619\n",
      "converting numeric columns to numeric...\n",
      "(0.056427904721022465, 8.528800336222613e-83)\n"
     ]
    }
   ],
   "source": [
    "print(get_auc('SGOT (AST) -Blood'))\n",
    "print(get_cohen_kappa('SGOT (AST) -Blood',7,40))"
   ]
  },
  {
   "cell_type": "code",
   "execution_count": 271,
   "metadata": {},
   "outputs": [
    {
     "name": "stdout",
     "output_type": "stream",
     "text": [
      "converting numeric columns to numeric...\n"
     ]
    },
    {
     "name": "stderr",
     "output_type": "stream",
     "text": [
      "/anaconda3/lib/python3.6/site-packages/pandas/core/frame.py:2540: SettingWithCopyWarning: \n",
      "A value is trying to be set on a copy of a slice from a DataFrame.\n",
      "Try using .loc[row_indexer,col_indexer] = value instead\n",
      "\n",
      "See the caveats in the documentation: http://pandas.pydata.org/pandas-docs/stable/indexing.html#indexing-view-versus-copy\n",
      "  self[k1] = value[k2]\n"
     ]
    },
    {
     "name": "stdout",
     "output_type": "stream",
     "text": [
      "converting numeric columns to numeric...\n"
     ]
    },
    {
     "data": {
      "text/plain": [
       "(0.511294417726488, (0.04250472630241457, 1.0891877450090909e-47))"
      ]
     },
     "execution_count": 271,
     "metadata": {},
     "output_type": "execute_result"
    }
   ],
   "source": [
    "get_auc('SGPT (ALT) -Blood'), get_cohen_kappa('SGPT (ALT) -Blood',7,45)"
   ]
  },
  {
   "cell_type": "code",
   "execution_count": 248,
   "metadata": {},
   "outputs": [
    {
     "name": "stdout",
     "output_type": "stream",
     "text": [
      "converting numeric columns to numeric...\n"
     ]
    },
    {
     "name": "stderr",
     "output_type": "stream",
     "text": [
      "/anaconda3/lib/python3.6/site-packages/pandas/core/frame.py:2540: SettingWithCopyWarning: \n",
      "A value is trying to be set on a copy of a slice from a DataFrame.\n",
      "Try using .loc[row_indexer,col_indexer] = value instead\n",
      "\n",
      "See the caveats in the documentation: http://pandas.pydata.org/pandas-docs/stable/indexing.html#indexing-view-versus-copy\n",
      "  self[k1] = value[k2]\n"
     ]
    },
    {
     "data": {
      "text/plain": [
       "<matplotlib.axes._subplots.AxesSubplot at 0x18bb58c88>"
      ]
     },
     "execution_count": 248,
     "metadata": {},
     "output_type": "execute_result"
    },
    {
     "data": {
      "image/png": "[encoded data removed]",
      "text/plain": [
       "<matplotlib.figure.Figure at 0x10c2a1e48>"
      ]
     },
     "metadata": {},
     "output_type": "display_data"
    }
   ],
   "source": [
    "nm = 'SGOT (AST) -Blood'\n",
    "d7 = convert_to_numeric(data_general_miun[[nm,'returned_within_30']],numeric_cols=[nm]).dropna()\n",
    "fig, ax = pyplot.subplots(figsize=(12.7, 4.27))\n",
    "sns.barplot(x=pd.qcut(d7[nm].astype(float),10), y=d7.returned_within_30,ax=ax)"
   ]
  },
  {
   "cell_type": "code",
   "execution_count": 272,
   "metadata": {},
   "outputs": [
    {
     "name": "stdout",
     "output_type": "stream",
     "text": [
      "converting numeric columns to numeric...\n"
     ]
    },
    {
     "name": "stderr",
     "output_type": "stream",
     "text": [
      "/anaconda3/lib/python3.6/site-packages/pandas/core/frame.py:2540: SettingWithCopyWarning: \n",
      "A value is trying to be set on a copy of a slice from a DataFrame.\n",
      "Try using .loc[row_indexer,col_indexer] = value instead\n",
      "\n",
      "See the caveats in the documentation: http://pandas.pydata.org/pandas-docs/stable/indexing.html#indexing-view-versus-copy\n",
      "  self[k1] = value[k2]\n"
     ]
    },
    {
     "name": "stdout",
     "output_type": "stream",
     "text": [
      "converting numeric columns to numeric...\n"
     ]
    },
    {
     "data": {
      "text/plain": [
       "(0.5437272296211796, (0.04448386163308941, 2.977895087858797e-89))"
      ]
     },
     "execution_count": 272,
     "metadata": {},
     "output_type": "execute_result"
    }
   ],
   "source": [
    "get_auc('Glucose -Blood'), get_cohen_kappa('Glucose -Blood',70,100)"
   ]
  },
  {
   "cell_type": "code",
   "execution_count": 273,
   "metadata": {},
   "outputs": [
    {
     "name": "stdout",
     "output_type": "stream",
     "text": [
      "converting numeric columns to numeric...\n"
     ]
    },
    {
     "name": "stderr",
     "output_type": "stream",
     "text": [
      "/anaconda3/lib/python3.6/site-packages/pandas/core/frame.py:2540: SettingWithCopyWarning: \n",
      "A value is trying to be set on a copy of a slice from a DataFrame.\n",
      "Try using .loc[row_indexer,col_indexer] = value instead\n",
      "\n",
      "See the caveats in the documentation: http://pandas.pydata.org/pandas-docs/stable/indexing.html#indexing-view-versus-copy\n",
      "  self[k1] = value[k2]\n"
     ]
    },
    {
     "name": "stdout",
     "output_type": "stream",
     "text": [
      "converting numeric columns to numeric...\n"
     ]
    },
    {
     "data": {
      "text/plain": [
       "(0.5465646202410583, (0.0658695682599644, 1.4120727940881934e-193))"
      ]
     },
     "execution_count": 273,
     "metadata": {},
     "output_type": "execute_result"
    }
   ],
   "source": [
    "get_auc('Sodium -Blood'), get_cohen_kappa('Sodium -Blood',136,148)"
   ]
  },
  {
   "cell_type": "code",
   "execution_count": 274,
   "metadata": {},
   "outputs": [
    {
     "name": "stdout",
     "output_type": "stream",
     "text": [
      "converting numeric columns to numeric...\n"
     ]
    },
    {
     "name": "stderr",
     "output_type": "stream",
     "text": [
      "/anaconda3/lib/python3.6/site-packages/pandas/core/frame.py:2540: SettingWithCopyWarning: \n",
      "A value is trying to be set on a copy of a slice from a DataFrame.\n",
      "Try using .loc[row_indexer,col_indexer] = value instead\n",
      "\n",
      "See the caveats in the documentation: http://pandas.pydata.org/pandas-docs/stable/indexing.html#indexing-view-versus-copy\n",
      "  self[k1] = value[k2]\n"
     ]
    },
    {
     "name": "stdout",
     "output_type": "stream",
     "text": [
      "converting numeric columns to numeric...\n"
     ]
    },
    {
     "data": {
      "text/plain": [
       "(0.5191426079568204, (0.03254923854745837, 1.436637494736644e-48))"
      ]
     },
     "execution_count": 274,
     "metadata": {},
     "output_type": "execute_result"
    }
   ],
   "source": [
    "get_auc('Potassium -Blood'), get_cohen_kappa('Potassium -Blood',3.5,5.2)"
   ]
  },
  {
   "cell_type": "code",
   "execution_count": 275,
   "metadata": {},
   "outputs": [
    {
     "name": "stdout",
     "output_type": "stream",
     "text": [
      "converting numeric columns to numeric...\n"
     ]
    },
    {
     "name": "stderr",
     "output_type": "stream",
     "text": [
      "/anaconda3/lib/python3.6/site-packages/pandas/core/frame.py:2540: SettingWithCopyWarning: \n",
      "A value is trying to be set on a copy of a slice from a DataFrame.\n",
      "Try using .loc[row_indexer,col_indexer] = value instead\n",
      "\n",
      "See the caveats in the documentation: http://pandas.pydata.org/pandas-docs/stable/indexing.html#indexing-view-versus-copy\n",
      "  self[k1] = value[k2]\n"
     ]
    },
    {
     "name": "stdout",
     "output_type": "stream",
     "text": [
      "converting numeric columns to numeric...\n"
     ]
    },
    {
     "data": {
      "text/plain": [
       "(0.513645042211577, (-0.0026831970135314793, 0.40685711153523707))"
      ]
     },
     "execution_count": 275,
     "metadata": {},
     "output_type": "execute_result"
    }
   ],
   "source": [
    "get_auc('Phosphorus -Blood'), get_cohen_kappa('Phosphorus -Blood',2,4)"
   ]
  },
  {
   "cell_type": "code",
   "execution_count": 282,
   "metadata": {},
   "outputs": [
    {
     "data": {
      "text/plain": [
       "['Albumin -Blood',\n",
       " 'Alkaline phosphatase -Blood',\n",
       " 'Amylase -Blood',\n",
       " 'Bilirubin -Blood, total',\n",
       " 'CK-MB%',\n",
       " 'CPK -Blood ,total',\n",
       " 'CPK-MB',\n",
       " 'CRP (Inflammatory)',\n",
       " 'Calcium -Blood, total',\n",
       " 'Chloride -Blood',\n",
       " 'Cholesterol, total',\n",
       " 'Creatinine -Blood',\n",
       " 'EOS abs.',\n",
       " 'Gamma GT -Blood',\n",
       " 'Glucose -Blood',\n",
       " 'HCO3',\n",
       " 'HDL-Cholesterol, direct',\n",
       " 'HGB',\n",
       " 'HbA1C %',\n",
       " 'INR',\n",
       " 'LDH -Blood',\n",
       " 'LDL Cholesterol, direct',\n",
       " 'LYMPHO abs.',\n",
       " 'Lactate',\n",
       " 'Lipase, pancreatic',\n",
       " 'MCV',\n",
       " 'NEUTRO abs.',\n",
       " 'Osmolality (calc.)',\n",
       " 'PCO2',\n",
       " 'PH',\n",
       " 'PLT',\n",
       " 'PO2',\n",
       " 'PT',\n",
       " 'PTT',\n",
       " 'Phosphorus -Blood',\n",
       " 'Potassium -Blood',\n",
       " 'Protein -Blood, total',\n",
       " 'SGOT (AST) -Blood',\n",
       " 'SGPT (ALT) -Blood',\n",
       " 'Sodium -Blood',\n",
       " 'T3, free',\n",
       " 'T4, free',\n",
       " 'TSH',\n",
       " 'Triglycerides',\n",
       " 'Troponin-I',\n",
       " 'Urea -Blood',\n",
       " 'WBC']"
      ]
     },
     "execution_count": 282,
     "metadata": {},
     "output_type": "execute_result"
    }
   ],
   "source": [
    "blood_columns = [col for col in data_general_miun.columns.tolist() if col[0].isupper()]\n",
    "blood_columns"
   ]
  },
  {
   "cell_type": "code",
   "execution_count": 283,
   "metadata": {},
   "outputs": [
    {
     "name": "stdout",
     "output_type": "stream",
     "text": [
      "converting numeric columns to numeric...\n"
     ]
    },
    {
     "name": "stderr",
     "output_type": "stream",
     "text": [
      "/anaconda3/lib/python3.6/site-packages/pandas/core/frame.py:2540: SettingWithCopyWarning: \n",
      "A value is trying to be set on a copy of a slice from a DataFrame.\n",
      "Try using .loc[row_indexer,col_indexer] = value instead\n",
      "\n",
      "See the caveats in the documentation: http://pandas.pydata.org/pandas-docs/stable/indexing.html#indexing-view-versus-copy\n",
      "  self[k1] = value[k2]\n"
     ]
    },
    {
     "name": "stdout",
     "output_type": "stream",
     "text": [
      "converting numeric columns to numeric...\n",
      "converting numeric columns to numeric...\n",
      "converting numeric columns to numeric...\n",
      "converting numeric columns to numeric...\n",
      "converting numeric columns to numeric...\n",
      "converting numeric columns to numeric...\n",
      "converting numeric columns to numeric...\n",
      "converting numeric columns to numeric...\n",
      "converting numeric columns to numeric...\n",
      "converting numeric columns to numeric...\n",
      "converting numeric columns to numeric...\n",
      "converting numeric columns to numeric...\n",
      "converting numeric columns to numeric...\n",
      "converting numeric columns to numeric...\n",
      "converting numeric columns to numeric...\n",
      "converting numeric columns to numeric...\n",
      "converting numeric columns to numeric...\n",
      "converting numeric columns to numeric...\n",
      "converting numeric columns to numeric...\n",
      "converting numeric columns to numeric...\n",
      "converting numeric columns to numeric...\n",
      "converting numeric columns to numeric...\n",
      "converting numeric columns to numeric...\n",
      "converting numeric columns to numeric...\n",
      "converting numeric columns to numeric...\n",
      "converting numeric columns to numeric...\n",
      "converting numeric columns to numeric...\n",
      "converting numeric columns to numeric...\n",
      "converting numeric columns to numeric...\n",
      "converting numeric columns to numeric...\n",
      "converting numeric columns to numeric...\n",
      "converting numeric columns to numeric...\n",
      "converting numeric columns to numeric...\n",
      "converting numeric columns to numeric...\n",
      "converting numeric columns to numeric...\n",
      "converting numeric columns to numeric...\n",
      "converting numeric columns to numeric...\n",
      "converting numeric columns to numeric...\n",
      "converting numeric columns to numeric...\n",
      "converting numeric columns to numeric...\n",
      "converting numeric columns to numeric...\n",
      "converting numeric columns to numeric...\n",
      "converting numeric columns to numeric...\n",
      "converting numeric columns to numeric...\n",
      "converting numeric columns to numeric...\n",
      "converting numeric columns to numeric...\n"
     ]
    }
   ],
   "source": [
    "aucs = {col : get_auc(col) for col in blood_columns}"
   ]
  },
  {
   "cell_type": "code",
   "execution_count": 285,
   "metadata": {},
   "outputs": [
    {
     "data": {
      "text/plain": [
       "[('T3, free', 0.6289158775737873),\n",
       " ('Albumin -Blood', 0.6191574602695709),\n",
       " ('T4, free', 0.5945207847990682),\n",
       " ('CRP (Inflammatory)', 0.5864152632001873),\n",
       " ('Gamma GT -Blood', 0.5822627414573102),\n",
       " ('Protein -Blood, total', 0.5820177311229695),\n",
       " ('HGB', 0.5661990869598506),\n",
       " ('Calcium -Blood, total', 0.5603243893747409),\n",
       " ('LDH -Blood', 0.5587190366227334),\n",
       " ('LYMPHO abs.', 0.5570929329376186),\n",
       " ('Troponin-I', 0.5544949178759229),\n",
       " ('Alkaline phosphatase -Blood', 0.5543342396537435),\n",
       " ('HbA1C %', 0.5537401129943502),\n",
       " ('CPK-MB', 0.5508198816405508),\n",
       " ('INR', 0.5488816002730491),\n",
       " ('PT', 0.548502599876253),\n",
       " ('Chloride -Blood', 0.5478054165620887),\n",
       " ('Urea -Blood', 0.5473510088948259),\n",
       " ('Sodium -Blood', 0.5465646202410583),\n",
       " ('PCO2', 0.5450965521264803),\n",
       " ('Glucose -Blood', 0.5437272296211796),\n",
       " ('Creatinine -Blood', 0.5386018640854137),\n",
       " ('PH', 0.5381424564379567),\n",
       " ('CPK -Blood ,total', 0.5375872815781058),\n",
       " ('NEUTRO abs.', 0.5307823783938218),\n",
       " ('EOS abs.', 0.5275290336177809),\n",
       " ('LDL Cholesterol, direct', 0.5265853276409072),\n",
       " ('PO2', 0.5255377718666954),\n",
       " ('Amylase -Blood', 0.523248718840063),\n",
       " ('SGOT (AST) -Blood', 0.523002950217619),\n",
       " ('Lactate', 0.5227255668505936),\n",
       " ('Cholesterol, total', 0.5203179863494694),\n",
       " ('HDL-Cholesterol, direct', 0.519754552652415),\n",
       " ('Potassium -Blood', 0.5191426079568204),\n",
       " ('Bilirubin -Blood, total', 0.5165554063208126),\n",
       " ('HCO3', 0.5141831175929871),\n",
       " ('Phosphorus -Blood', 0.513645042211577),\n",
       " ('WBC', 0.5131301035941097),\n",
       " ('PTT', 0.5119901895927182),\n",
       " ('SGPT (ALT) -Blood', 0.511294417726488),\n",
       " ('PLT', 0.5070931792870351),\n",
       " ('Osmolality (calc.)', 0.5054657321822752),\n",
       " ('MCV', 0.5045905808472438),\n",
       " ('TSH', 0.5028486624261255),\n",
       " ('Triglycerides', 0.5027383177570094),\n",
       " ('CK-MB%', 0.5005924533556112),\n",
       " ('Lipase, pancreatic', 0.5000711121279645)]"
      ]
     },
     "execution_count": 285,
     "metadata": {},
     "output_type": "execute_result"
    }
   ],
   "source": [
    "sorted(aucs.items(), key=lambda kv: kv[1], reverse=True)"
   ]
  },
  {
   "cell_type": "code",
   "execution_count": null,
   "metadata": {},
   "outputs": [],
   "source": []
  },
  {
   "cell_type": "code",
   "execution_count": 327,
   "metadata": {},
   "outputs": [
    {
     "name": "stdout",
     "output_type": "stream",
     "text": [
      "converting numeric columns to numeric...\n",
      "Optimization terminated successfully.\n",
      "         Current function value: 0.469681\n",
      "         Iterations 5\n"
     ]
    },
    {
     "name": "stderr",
     "output_type": "stream",
     "text": [
      "/anaconda3/lib/python3.6/site-packages/pandas/core/frame.py:2540: SettingWithCopyWarning: \n",
      "A value is trying to be set on a copy of a slice from a DataFrame.\n",
      "Try using .loc[row_indexer,col_indexer] = value instead\n",
      "\n",
      "See the caveats in the documentation: http://pandas.pydata.org/pandas-docs/stable/indexing.html#indexing-view-versus-copy\n",
      "  self[k1] = value[k2]\n"
     ]
    },
    {
     "data": {
      "text/plain": [
       "' -144.767'"
      ]
     },
     "execution_count": 327,
     "metadata": {},
     "output_type": "execute_result"
    }
   ],
   "source": [
    "from statsmodels.discrete.discrete_model import Logit\n",
    "def get_logit(col_name):\n",
    "    d = convert_to_numeric(data_general_miun[[col_name,'returned_within_30']],numeric_cols=[col_name]).dropna()\n",
    "    logit = Logit(d['returned_within_30'], d[col_name])\n",
    "    result = logit.fit()\n",
    "    return result.summary().tables[1][1][3].data\n",
    "    #return np.exp(result.params)[0]\n",
    "a = get_logit('Albumin -Blood')\n",
    "a"
   ]
  },
  {
   "cell_type": "code",
   "execution_count": 326,
   "metadata": {},
   "outputs": [
    {
     "data": {
      "text/plain": [
       "' -144.767'"
      ]
     },
     "execution_count": 326,
     "metadata": {},
     "output_type": "execute_result"
    }
   ],
   "source": [
    "from scipy import stats\n",
    "stats.chisqprob = lambda chisq, df: stats.chi2.sf(chisq, df)\n",
    "a.summary().tables[1][1][3].data"
   ]
  },
  {
   "cell_type": "code",
   "execution_count": 328,
   "metadata": {},
   "outputs": [
    {
     "name": "stdout",
     "output_type": "stream",
     "text": [
      "converting numeric columns to numeric...\n"
     ]
    },
    {
     "name": "stderr",
     "output_type": "stream",
     "text": [
      "/anaconda3/lib/python3.6/site-packages/pandas/core/frame.py:2540: SettingWithCopyWarning: \n",
      "A value is trying to be set on a copy of a slice from a DataFrame.\n",
      "Try using .loc[row_indexer,col_indexer] = value instead\n",
      "\n",
      "See the caveats in the documentation: http://pandas.pydata.org/pandas-docs/stable/indexing.html#indexing-view-versus-copy\n",
      "  self[k1] = value[k2]\n"
     ]
    },
    {
     "name": "stdout",
     "output_type": "stream",
     "text": [
      "Optimization terminated successfully.\n",
      "         Current function value: 0.469681\n",
      "         Iterations 5\n",
      "converting numeric columns to numeric...\n",
      "Optimization terminated successfully.\n",
      "         Current function value: 0.523957\n",
      "         Iterations 6\n",
      "converting numeric columns to numeric...\n",
      "Optimization terminated successfully.\n",
      "         Current function value: 0.479594\n",
      "         Iterations 6\n",
      "converting numeric columns to numeric...\n",
      "Optimization terminated successfully.\n",
      "         Current function value: 0.526135\n",
      "         Iterations 6\n",
      "converting numeric columns to numeric...\n",
      "Optimization terminated successfully.\n",
      "         Current function value: 0.586927\n",
      "         Iterations 6\n",
      "converting numeric columns to numeric...\n",
      "Optimization terminated successfully.\n",
      "         Current function value: 0.574605\n",
      "         Iterations 7\n",
      "converting numeric columns to numeric...\n",
      "Optimization terminated successfully.\n",
      "         Current function value: 0.587201\n",
      "         Iterations 7\n",
      "converting numeric columns to numeric...\n",
      "Optimization terminated successfully.\n",
      "         Current function value: 0.662109\n",
      "         Iterations 6\n",
      "converting numeric columns to numeric...\n",
      "Optimization terminated successfully.\n",
      "         Current function value: 0.437010\n",
      "         Iterations 5\n",
      "converting numeric columns to numeric...\n",
      "Optimization terminated successfully.\n",
      "         Current function value: 0.438149\n",
      "         Iterations 5\n",
      "converting numeric columns to numeric...\n",
      "Optimization terminated successfully.\n",
      "         Current function value: 0.546460\n",
      "         Iterations 5\n",
      "converting numeric columns to numeric...\n",
      "Optimization terminated successfully.\n",
      "         Current function value: 0.476990\n",
      "         Iterations 6\n",
      "converting numeric columns to numeric...\n",
      "Optimization terminated successfully.\n",
      "         Current function value: 0.524888\n",
      "         Iterations 7\n",
      "converting numeric columns to numeric...\n",
      "Optimization terminated successfully.\n",
      "         Current function value: 0.662141\n",
      "         Iterations 6\n",
      "converting numeric columns to numeric...\n",
      "Optimization terminated successfully.\n",
      "         Current function value: 0.461267\n",
      "         Iterations 5\n",
      "converting numeric columns to numeric...\n",
      "Optimization terminated successfully.\n",
      "         Current function value: 0.493202\n",
      "         Iterations 5\n",
      "converting numeric columns to numeric...\n",
      "Optimization terminated successfully.\n",
      "         Current function value: 0.546007\n",
      "         Iterations 5\n",
      "converting numeric columns to numeric...\n",
      "Optimization terminated successfully.\n",
      "         Current function value: 0.426212\n",
      "         Iterations 5\n",
      "converting numeric columns to numeric...\n",
      "Optimization terminated successfully.\n",
      "         Current function value: 0.520379\n",
      "         Iterations 5\n",
      "converting numeric columns to numeric...\n",
      "Optimization terminated successfully.\n",
      "         Current function value: 0.539380\n",
      "         Iterations 6\n",
      "converting numeric columns to numeric...\n",
      "Optimization terminated successfully.\n",
      "         Current function value: 0.509859\n",
      "         Iterations 6\n",
      "converting numeric columns to numeric...\n",
      "Optimization terminated successfully.\n",
      "         Current function value: 0.560597\n",
      "         Iterations 5\n",
      "converting numeric columns to numeric...\n",
      "Optimization terminated successfully.\n",
      "         Current function value: 0.462870\n",
      "         Iterations 7\n",
      "converting numeric columns to numeric...\n",
      "Optimization terminated successfully.\n",
      "         Current function value: 0.522828\n",
      "         Iterations 6\n",
      "converting numeric columns to numeric...\n",
      "Optimization terminated successfully.\n",
      "         Current function value: 0.595357\n",
      "         Iterations 7\n",
      "converting numeric columns to numeric...\n",
      "Optimization terminated successfully.\n",
      "         Current function value: 0.431463\n",
      "         Iterations 5\n",
      "converting numeric columns to numeric...\n",
      "Optimization terminated successfully.\n",
      "         Current function value: 0.474307\n",
      "         Iterations 6\n",
      "converting numeric columns to numeric...\n",
      "Optimization terminated successfully.\n",
      "         Current function value: 0.430944\n",
      "         Iterations 5\n",
      "converting numeric columns to numeric...\n",
      "Optimization terminated successfully.\n",
      "         Current function value: 0.470271\n",
      "         Iterations 5\n",
      "converting numeric columns to numeric...\n",
      "Optimization terminated successfully.\n",
      "         Current function value: 0.610754\n",
      "         Iterations 5\n",
      "converting numeric columns to numeric...\n",
      "Optimization terminated successfully.\n",
      "         Current function value: 0.451610\n",
      "         Iterations 5\n",
      "converting numeric columns to numeric...\n",
      "Optimization terminated successfully.\n",
      "         Current function value: 0.529307\n",
      "         Iterations 5\n",
      "converting numeric columns to numeric...\n",
      "Optimization terminated successfully.\n",
      "         Current function value: 0.508862\n",
      "         Iterations 5\n",
      "converting numeric columns to numeric...\n",
      "Optimization terminated successfully.\n",
      "         Current function value: 0.518642\n",
      "         Iterations 5\n",
      "converting numeric columns to numeric...\n",
      "Optimization terminated successfully.\n",
      "         Current function value: 0.469753\n",
      "         Iterations 5\n",
      "converting numeric columns to numeric...\n",
      "Optimization terminated successfully.\n",
      "         Current function value: 0.434971\n",
      "         Iterations 5\n",
      "converting numeric columns to numeric...\n",
      "Optimization terminated successfully.\n",
      "         Current function value: 0.475577\n",
      "         Iterations 5\n",
      "converting numeric columns to numeric...\n",
      "Optimization terminated successfully.\n",
      "         Current function value: 0.543132\n",
      "         Iterations 7\n",
      "converting numeric columns to numeric...\n",
      "Optimization terminated successfully.\n",
      "         Current function value: 0.567502\n",
      "         Iterations 7\n",
      "converting numeric columns to numeric...\n",
      "Optimization terminated successfully.\n",
      "         Current function value: 0.429677\n",
      "         Iterations 5\n",
      "converting numeric columns to numeric...\n",
      "Optimization terminated successfully.\n",
      "         Current function value: 0.545763\n",
      "         Iterations 5\n",
      "converting numeric columns to numeric...\n",
      "Optimization terminated successfully.\n",
      "         Current function value: 0.585611\n",
      "         Iterations 5\n",
      "converting numeric columns to numeric...\n",
      "Optimization terminated successfully.\n",
      "         Current function value: 0.665622\n",
      "         Iterations 7\n",
      "converting numeric columns to numeric...\n",
      "Optimization terminated successfully.\n",
      "         Current function value: 0.569618\n",
      "         Iterations 5\n",
      "converting numeric columns to numeric...\n"
     ]
    },
    {
     "name": "stderr",
     "output_type": "stream",
     "text": [
      "/anaconda3/lib/python3.6/site-packages/statsmodels/discrete/discrete_model.py:1214: RuntimeWarning: overflow encountered in exp\n",
      "  return 1/(1+np.exp(-X))\n"
     ]
    },
    {
     "name": "stdout",
     "output_type": "stream",
     "text": [
      "Optimization terminated successfully.\n",
      "         Current function value: 0.622078\n",
      "         Iterations 8\n",
      "converting numeric columns to numeric...\n",
      "Optimization terminated successfully.\n",
      "         Current function value: 0.490222\n",
      "         Iterations 6\n",
      "converting numeric columns to numeric...\n",
      "Optimization terminated successfully.\n",
      "         Current function value: 0.473673\n",
      "         Iterations 6\n"
     ]
    }
   ],
   "source": [
    "odds_ratio = {col : get_logit(col) for col in blood_columns}"
   ]
  },
  {
   "cell_type": "code",
   "execution_count": 329,
   "metadata": {},
   "outputs": [
    {
     "data": {
      "text/plain": [
       "[('Sodium -Blood', ' -276.669'),\n",
       " ('MCV', ' -275.904'),\n",
       " ('HGB', ' -275.897'),\n",
       " ('Osmolality (calc.)', ' -275.622'),\n",
       " ('Potassium -Blood', ' -273.262'),\n",
       " ('PLT', ' -259.677'),\n",
       " ('Glucose -Blood', ' -254.436'),\n",
       " ('WBC', ' -249.481'),\n",
       " ('Creatinine -Blood', ' -247.738'),\n",
       " ('LYMPHO abs.', ' -246.223'),\n",
       " ('Calcium -Blood, total', ' -243.342'),\n",
       " ('NEUTRO abs.', ' -242.764'),\n",
       " ('Urea -Blood', ' -236.336'),\n",
       " ('Chloride -Blood', ' -232.639'),\n",
       " ('EOS abs.', ' -197.797'),\n",
       " ('Phosphorus -Blood', ' -177.659'),\n",
       " ('LDH -Blood', ' -170.737'),\n",
       " ('Alkaline phosphatase -Blood', ' -167.664'),\n",
       " ('Amylase -Blood', ' -167.173'),\n",
       " ('Bilirubin -Blood, total', ' -162.904'),\n",
       " ('SGOT (AST) -Blood', ' -157.078'),\n",
       " ('Albumin -Blood', ' -144.767'),\n",
       " ('Protein -Blood, total', ' -144.668'),\n",
       " ('SGPT (ALT) -Blood', ' -140.002'),\n",
       " ('PT', ' -127.281'),\n",
       " ('INR', ' -113.581'),\n",
       " ('HCO3', ' -113.026'),\n",
       " ('Lactate', ' -112.744'),\n",
       " ('PO2', '  -99.390'),\n",
       " ('CPK -Blood ,total', '  -97.936'),\n",
       " ('Troponin-I', '  -79.320'),\n",
       " ('PTT', '  -69.703'),\n",
       " ('Lipase, pancreatic', '  -63.597'),\n",
       " ('Gamma GT -Blood', '  -55.398'),\n",
       " ('CPK-MB', '  -39.262'),\n",
       " ('CK-MB%', '  -39.173'),\n",
       " ('T3, free', '  -32.724'),\n",
       " ('CRP (Inflammatory)', '  -29.941'),\n",
       " ('T4, free', '  -28.518'),\n",
       " ('PH', '  -23.103'),\n",
       " ('TSH', '  -15.367'),\n",
       " ('PCO2', '  -10.671'),\n",
       " ('Cholesterol, total', '   11.345'),\n",
       " ('HDL-Cholesterol, direct', '   11.275'),\n",
       " ('LDL Cholesterol, direct', '   10.794'),\n",
       " ('Triglycerides', '   10.193'),\n",
       " ('HbA1C %', '   10.030')]"
      ]
     },
     "execution_count": 329,
     "metadata": {},
     "output_type": "execute_result"
    }
   ],
   "source": [
    "sorted(odds_ratio.items(), key=lambda kv: kv[1], reverse=True)"
   ]
  }
 ],
 "metadata": {
  "kernelspec": {
   "display_name": "Python 3",
   "language": "python",
   "name": "python3"
  },
  "language_info": {
   "codemirror_mode": {
    "name": "ipython",
    "version": 3
   },
   "file_extension": ".py",
   "mimetype": "text/x-python",
   "name": "python",
   "nbconvert_exporter": "python",
   "pygments_lexer": "ipython3",
   "version": "3.6.4"
  }
 },
 "nbformat": 4,
 "nbformat_minor": 2
}
